{
  "cells": [
    {
      "cell_type": "code",
      "execution_count": 1,
      "metadata": {
        "id": "h46MfLX5WkBA"
      },
      "outputs": [],
      "source": [
        "import torch"
      ]
    },
    {
      "cell_type": "code",
      "execution_count": 28,
      "metadata": {},
      "outputs": [
        {
          "name": "stdout",
          "output_type": "stream",
          "text": [
            "tensor([[1., 1.],\n",
            "        [1., 1.]], requires_grad=True)\n",
            "tensor([[3., 3.],\n",
            "        [3., 3.]], grad_fn=<AddBackward0>)\n",
            "tensor([[9., 9.],\n",
            "        [9., 9.]], grad_fn=<MulBackward0>)\n",
            "tensor(9., grad_fn=<MeanBackward0>)\n",
            "tensor([[1.5000, 1.5000],\n",
            "        [1.5000, 1.5000]])\n"
          ]
        }
      ],
      "source": [
        "x=torch.ones(2,2, requires_grad=True)\n",
        "print(x)\n",
        "y=x+2\n",
        "print(y)\n",
        "z= y * y \n",
        "print(z)\n",
        "out = z.mean()\n",
        "print(out)\n",
        "#backprop\n",
        "out.backward()\n",
        "#out = (((x1+2)^2) + ... + ((x4+2)^2))/4\n",
        "#dout/dx = 2(x1+2) /4 + ... + ... +\n",
        "#x.grad = [1.5,1.5,1.5,1.5]\n",
        "print(x.grad)"
      ]
    },
    {
      "cell_type": "code",
      "execution_count": 33,
      "metadata": {
        "colab": {
          "base_uri": "https://localhost:8080/"
        },
        "id": "H94QpAjuWnSS",
        "outputId": "ddbaebf9-2883-4d72-d2c1-2c4df7f60f8a"
      },
      "outputs": [
        {
          "data": {
            "text/plain": [
              "tensor([[1., 2.],\n",
              "        [5., 7.]], dtype=torch.float64, requires_grad=True)"
            ]
          },
          "execution_count": 33,
          "metadata": {},
          "output_type": "execute_result"
        }
      ],
      "source": [
        "t = torch.tensor([[1, 2], [5, 7]], dtype=float, requires_grad=True)\n",
        "t"
      ]
    },
    {
      "cell_type": "code",
      "execution_count": 34,
      "metadata": {
        "id": "L8iftDia9QFG"
      },
      "outputs": [
        {
          "data": {
            "text/plain": [
              "tensor(15., dtype=torch.float64, grad_fn=<SumBackward0>)"
            ]
          },
          "execution_count": 34,
          "metadata": {},
          "output_type": "execute_result"
        }
      ],
      "source": [
        "l = t.sum()\n",
        "l"
      ]
    },
    {
      "cell_type": "code",
      "execution_count": 35,
      "metadata": {
        "colab": {
          "base_uri": "https://localhost:8080/"
        },
        "id": "H8cngYUq9Uku",
        "outputId": "0ea821da-6677-4cfe-c3aa-c040706f02b3"
      },
      "outputs": [
        {
          "data": {
            "text/plain": [
              "tensor(45., dtype=torch.float64, grad_fn=<MulBackward0>)"
            ]
          },
          "execution_count": 35,
          "metadata": {},
          "output_type": "execute_result"
        }
      ],
      "source": [
        "l = 3*l\n",
        "l"
      ]
    },
    {
      "cell_type": "code",
      "execution_count": 36,
      "metadata": {
        "id": "E3jgGGcv9ZW4"
      },
      "outputs": [
        {
          "data": {
            "text/plain": [
              "tensor(45., dtype=torch.float64, grad_fn=<MulBackward0>)"
            ]
          },
          "execution_count": 36,
          "metadata": {},
          "output_type": "execute_result"
        }
      ],
      "source": [
        "l.backward()"
      ]
    },
    {
      "cell_type": "code",
      "execution_count": 37,
      "metadata": {
        "colab": {
          "base_uri": "https://localhost:8080/"
        },
        "id": "fz8pt2VW9uZ6",
        "outputId": "23c194e8-6d32-4233-ba98-79a28a5ea440"
      },
      "outputs": [
        {
          "data": {
            "text/plain": [
              "tensor([[3., 3.],\n",
              "        [3., 3.]], dtype=torch.float64)"
            ]
          },
          "execution_count": 37,
          "metadata": {},
          "output_type": "execute_result"
        }
      ],
      "source": [
        "t.grad"
      ]
    },
    {
      "cell_type": "code",
      "execution_count": 19,
      "metadata": {
        "colab": {
          "base_uri": "https://localhost:8080/"
        },
        "id": "wPpfmJVT-4M9",
        "outputId": "4b14c74e-859b-4f01-a8b2-aa3082612ffc"
      },
      "outputs": [
        {
          "name": "stdout",
          "output_type": "stream",
          "text": [
            "tensor([[1., 1.],\n",
            "        [1., 1.]], requires_grad=True)\n",
            "tensor([[3., 3.],\n",
            "        [3., 3.]], grad_fn=<AddBackward0>)\n",
            "<AddBackward0 object at 0x7ff3a288b7f0>\n",
            "\n",
            "tensor([[27., 27.],\n",
            "        [27., 27.]], grad_fn=<MulBackward0>)\n",
            "tensor(27., grad_fn=<MeanBackward0>)\n",
            "tensor([[4.5000, 4.5000],\n",
            "        [4.5000, 4.5000]])\n"
          ]
        }
      ],
      "source": [
        "x = torch.ones(2, 2, requires_grad=True)\n",
        "print(x)\n",
        "y = x + 2 \n",
        "print(y) \n",
        "print(y.grad_fn) \n",
        "print()\n",
        "z = y * y * 3\n",
        "out = z.mean()\n",
        "print(z)\n",
        "print(out)\n",
        "out.backward() # print gradients d(out)/dx\n",
        "print(x.grad) # tensor([[4.5000, 4.5000], [4.5000, 4.5000]])"
      ]
    },
    {
      "cell_type": "code",
      "execution_count": 38,
      "metadata": {
        "colab": {
          "base_uri": "https://localhost:8080/"
        },
        "id": "dNFY3gnyCAdd",
        "outputId": "d00262fa-8947-4e88-a262-beae96ee555d"
      },
      "outputs": [
        {
          "name": "stdout",
          "output_type": "stream",
          "text": [
            "OneLayerNet(\n",
            "  (linear): Linear(in_features=784, out_features=10, bias=True)\n",
            ")\n"
          ]
        }
      ],
      "source": [
        "class OneLayerNet(torch.nn.Module):\n",
        "  def __init__(self, num_params, num_classes):\n",
        "    super().__init__()\n",
        "    self.linear = torch.nn.Linear(num_params, num_classes)\n",
        "  \n",
        "  def forward(self, x):\n",
        "    # x = (batch, num_params)\n",
        "    # output = (batch, num_classes)\n",
        "    return self.linear(x)\n",
        "\n",
        "net = OneLayerNet(28*28, 10)\n",
        "print(net)"
      ]
    },
    {
      "cell_type": "code",
      "execution_count": 39,
      "metadata": {
        "colab": {
          "base_uri": "https://localhost:8080/"
        },
        "id": "iqF55TihG9DU",
        "outputId": "21caab8c-a868-42bf-d6e7-59ba189074f0"
      },
      "outputs": [
        {
          "name": "stdout",
          "output_type": "stream",
          "text": [
            "torch.Size([784])\n",
            "torch.Size([1, 784])\n",
            "torch.Size([1, 10])\n"
          ]
        }
      ],
      "source": [
        "x = torch.rand(28*28)\n",
        "print(x.shape)\n",
        "x = x.unsqueeze(0)\n",
        "print(x.shape)\n",
        "out = net(x)\n",
        "print(out.shape)"
      ]
    },
    {
      "cell_type": "code",
      "execution_count": 40,
      "metadata": {
        "colab": {
          "base_uri": "https://localhost:8080/"
        },
        "id": "FWqDc49WH0C9",
        "outputId": "c5851769-fd0b-4ba8-93cd-e5f3865eb2f0"
      },
      "outputs": [
        {
          "data": {
            "text/plain": [
              "[torch.Size([10, 784]), torch.Size([10])]"
            ]
          },
          "execution_count": 40,
          "metadata": {},
          "output_type": "execute_result"
        }
      ],
      "source": [
        "# out = w (784) * x (784x10) + b (10)\n",
        "[p.shape for p in net.parameters()]"
      ]
    },
    {
      "cell_type": "code",
      "execution_count": 41,
      "metadata": {
        "colab": {
          "base_uri": "https://localhost:8080/"
        },
        "id": "uvjsHcUiIMm7",
        "outputId": "40126d78-e0ab-4808-c490-95f23ae2d69d"
      },
      "outputs": [
        {
          "name": "stdout",
          "output_type": "stream",
          "text": [
            "torch.Size([1, 10])\n",
            "tensor(0.3406, grad_fn=<MseLossBackward0>)\n"
          ]
        }
      ],
      "source": [
        "from torch.functional import F\n",
        "\n",
        "\n",
        "loss_fn = torch.nn.MSELoss()\n",
        "target = torch.zeros(1, 10)\n",
        "target[0, 0] = 1\n",
        "print(target.shape)\n",
        "# l = F.mse_loss(out, target)\n",
        "l = loss_fn(out, target)\n",
        "print(l)"
      ]
    },
    {
      "cell_type": "code",
      "execution_count": 42,
      "metadata": {
        "colab": {
          "base_uri": "https://localhost:8080/",
          "height": 502
        },
        "id": "Ulv2s7c0J8iO",
        "outputId": "3ef13caf-e5e4-434a-9b3f-ecf68c5afb2d"
      },
      "outputs": [
        {
          "name": "stdout",
          "output_type": "stream",
          "text": [
            "[None, None]\n",
            "[tensor([[-5.8406e-02, -2.1710e-01, -9.9268e-02,  ..., -1.2211e-01,\n",
            "         -1.2161e-01, -2.5773e-02],\n",
            "        [ 1.5052e-02,  5.5949e-02,  2.5583e-02,  ...,  3.1469e-02,\n",
            "          3.1341e-02,  6.6419e-03],\n",
            "        [ 2.8428e-02,  1.0567e-01,  4.8316e-02,  ...,  5.9433e-02,\n",
            "          5.9192e-02,  1.2544e-02],\n",
            "        ...,\n",
            "        [-8.2097e-03, -3.0516e-02, -1.3953e-02,  ..., -1.7164e-02,\n",
            "         -1.7094e-02, -3.6227e-03],\n",
            "        [ 2.1253e-04,  7.8999e-04,  3.6122e-04,  ...,  4.4433e-04,\n",
            "          4.4253e-04,  9.3782e-05],\n",
            "        [-1.7620e-02, -6.5495e-02, -2.9947e-02,  ..., -3.6838e-02,\n",
            "         -3.6689e-02, -7.7751e-03]]), tensor([-0.2767,  0.0713,  0.1347, -0.0669,  0.0784, -0.0773,  0.1067, -0.0389,\n",
            "         0.0010, -0.0835])]\n"
          ]
        }
      ],
      "source": [
        "net.zero_grad()\n",
        "print([p.grad for p in net.parameters()])\n",
        "l.backward()\n",
        "print([p.grad for p in net.parameters()])"
      ]
    },
    {
      "cell_type": "code",
      "execution_count": 43,
      "metadata": {
        "colab": {
          "base_uri": "https://localhost:8080/"
        },
        "id": "tHY0kouMK5EC",
        "outputId": "0b64a90a-5884-4097-fb21-e1c5ce88f0a6"
      },
      "outputs": [
        {
          "name": "stdout",
          "output_type": "stream",
          "text": [
            "torch.Size([1])\n",
            "torch.Size([1, 10])\n",
            "tensor(2.4756, grad_fn=<NllLossBackward0>)\n"
          ]
        }
      ],
      "source": [
        "# criterion = loss_fn\n",
        "loss_fn = torch.nn.CrossEntropyLoss()\n",
        "target = torch.tensor([3]).long()\n",
        "print(target.shape)\n",
        "x = torch.rand(28*28)\n",
        "x = x.unsqueeze(0)\n",
        "out = net(x)\n",
        "print(out.shape)\n",
        "l = loss_fn(out, target)\n",
        "print(l)\n",
        "l.backward()"
      ]
    },
    {
      "cell_type": "code",
      "execution_count": 44,
      "metadata": {
        "colab": {
          "base_uri": "https://localhost:8080/"
        },
        "id": "xFGK4Z_EMPVn",
        "outputId": "a6bddd1f-ac0c-4504-8f20-1b97646ed0a0"
      },
      "outputs": [
        {
          "name": "stdout",
          "output_type": "stream",
          "text": [
            "[tensor([[-0.0056, -0.2136, -0.0925,  ..., -0.1109, -0.1102, -0.0004],\n",
            "        [ 0.1752,  0.0666,  0.0462,  ...,  0.0655,  0.0661,  0.0837],\n",
            "        [ 0.1206,  0.1118,  0.0602,  ...,  0.0790,  0.0792,  0.0569],\n",
            "        ...,\n",
            "        [ 0.0548, -0.0263, -0.0058,  ..., -0.0038, -0.0034,  0.0267],\n",
            "        [ 0.0571,  0.0046,  0.0077,  ...,  0.0126,  0.0128,  0.0275],\n",
            "        [ 0.0527, -0.0608, -0.0209,  ..., -0.0219, -0.0214,  0.0261]]), tensor([-0.2177,  0.2502,  0.2377, -0.9828,  0.2171,  0.0120,  0.2411,  0.0315,\n",
            "         0.0646, -0.0049])]\n",
            "[tensor([[0., 0., 0.,  ..., 0., 0., 0.],\n",
            "        [0., 0., 0.,  ..., 0., 0., 0.],\n",
            "        [0., 0., 0.,  ..., 0., 0., 0.],\n",
            "        ...,\n",
            "        [0., 0., 0.,  ..., 0., 0., 0.],\n",
            "        [0., 0., 0.,  ..., 0., 0., 0.],\n",
            "        [0., 0., 0.,  ..., 0., 0., 0.]]), tensor([0., 0., 0., 0., 0., 0., 0., 0., 0., 0.])]\n"
          ]
        }
      ],
      "source": [
        "print([p.grad for p in net.parameters()])\n",
        "learning_rate = 0.01\n",
        "# for f in net.parameters():\n",
        "#   f.data -= f.grad.data * learning_rate\n",
        "\n",
        "opt = torch.optim.SGD(net.parameters(), learning_rate)\n",
        "opt.step()\n",
        "opt.zero_grad()\n",
        "print([p.grad for p in net.parameters()])"
      ]
    },
    {
      "cell_type": "code",
      "execution_count": 45,
      "metadata": {
        "id": "FdwGHKNrNs7b"
      },
      "outputs": [],
      "source": [
        "import torchvision\n",
        "\n",
        "transform = torchvision.transforms.Compose([\n",
        "                    torchvision.transforms.ToTensor(),\n",
        "                    torchvision.transforms.Normalize(0.5, 0.5)\n",
        "                  ])\n",
        "\n",
        "trainset = torchvision.datasets.MNIST(root='./data', train=True,\n",
        "      download=True, transform=transform)\n",
        "testset = torchvision.datasets.MNIST(root='./data', train=False,\n",
        "      download=True, transform=transform)\n",
        "\n"
      ]
    },
    {
      "cell_type": "code",
      "execution_count": 46,
      "metadata": {
        "colab": {
          "base_uri": "https://localhost:8080/"
        },
        "id": "HHPUkWrFOM4s",
        "outputId": "64d81f32-6c77-45bd-8c87-35ddd8af297d"
      },
      "outputs": [],
      "source": [
        "trainloader = torch.utils.data.DataLoader(trainset, batch_size=128,\n",
        "    shuffle=True, num_workers=4)\n",
        "testloader = torch.utils.data.DataLoader(testset, batch_size=128,\n",
        "    shuffle=False, num_workers=4)"
      ]
    },
    {
      "cell_type": "code",
      "execution_count": 49,
      "metadata": {},
      "outputs": [
        {
          "data": {
            "text/plain": [
              "device(type='cpu')"
            ]
          },
          "execution_count": 49,
          "metadata": {},
          "output_type": "execute_result"
        }
      ],
      "source": [
        "device = torch.device(\"cuda:0\" if torch.cuda.is_available() else \"cpu\")\n",
        "device"
      ]
    }
  ],
  "metadata": {
    "accelerator": "GPU",
    "colab": {
      "provenance": []
    },
    "gpuClass": "standard",
    "kernelspec": {
      "display_name": "Python 3.9.12 ('base')",
      "language": "python",
      "name": "python3"
    },
    "language_info": {
      "codemirror_mode": {
        "name": "ipython",
        "version": 3
      },
      "file_extension": ".py",
      "mimetype": "text/x-python",
      "name": "python",
      "nbconvert_exporter": "python",
      "pygments_lexer": "ipython3",
      "version": "3.9.12"
    },
    "vscode": {
      "interpreter": {
        "hash": "b14c27cae524dbfd45c9571a7f9fd7a7eb1f23084315ebefbabcf7e59126cc81"
      }
    }
  },
  "nbformat": 4,
  "nbformat_minor": 0
}
