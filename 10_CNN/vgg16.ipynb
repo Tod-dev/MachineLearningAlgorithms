{
  "cells": [
    {
      "cell_type": "markdown",
      "metadata": {
        "id": "a9knEDxY-0vn"
      },
      "source": [
        "# Implement VGG-Net"
      ]
    },
    {
      "cell_type": "code",
      "execution_count": 4,
      "metadata": {
        "colab": {
          "base_uri": "https://localhost:8080/"
        },
        "id": "ZQiYrL4j2FqT",
        "outputId": "dde9627a-811d-4fb5-9f48-2ab9ef508cda"
      },
      "outputs": [
        {
          "data": {
            "text/plain": [
              "torch.Size([1, 10])"
            ]
          },
          "execution_count": 4,
          "metadata": {},
          "output_type": "execute_result"
        }
      ],
      "source": [
        "import torch\n",
        "import torch.nn as nn\n",
        "import torch.nn.functional as F\n",
        "import torchvision.transforms as transforms\n",
        "\n",
        "\n",
        "#test\n",
        "class LeNet(nn.Module):\n",
        "  def __init__(self):\n",
        "    super().__init__()\n",
        "    self.conv1= nn.Conv2d(1,6,5)\n",
        "    #subsampling = pooling\n",
        "    self.pool1 = nn.MaxPool2d(2)\n",
        "    self.conv2= nn.Conv2d(6,16,5)\n",
        "    self.pool2 = nn.MaxPool2d(2)\n",
        "    self.fc1 = nn.Linear(400,120)\n",
        "    self.fc2 = nn.Linear(120,84)\n",
        "    self.fc3 = nn.Linear(84,10)\n",
        "  \n",
        "  def forward(self,x):\n",
        "    x = self.conv1(x)\n",
        "    x = F.relu(x)\n",
        "    x = self.pool1(x)\n",
        "    x = self.conv2(x)\n",
        "    x = F.relu(x)\n",
        "    x = self.pool2(x)\n",
        "    x = torch.flatten(x, start_dim=1)\n",
        "    x = self.fc1(x)\n",
        "    x = F.relu(x)\n",
        "    x = self.fc2(x)\n",
        "    x = F.relu(x)\n",
        "    x = self.fc3(x)\n",
        "    return x\n",
        "\n",
        "  \n",
        "\n",
        "# conv = nn.Conv2d(1,6,5)\n",
        "input_mock = torch.rand(1,1,32,32)\n",
        "net = LeNet()\n",
        "net(input_mock).shape\n",
        "# out_mock = conv(input_mock)\n",
        "# print(input_mock.shape, out_mock.shape)"
      ]
    },
    {
      "cell_type": "code",
      "execution_count": 19,
      "metadata": {
        "colab": {
          "base_uri": "https://localhost:8080/"
        },
        "id": "YBWT-rr8-who",
        "outputId": "f983af63-c0cb-4ea4-f144-90a23defd90b"
      },
      "outputs": [
        {
          "name": "stdout",
          "output_type": "stream",
          "text": [
            "torch.Size([1, 1000])\n"
          ]
        }
      ],
      "source": [
        "#test\n",
        "input_mock = torch.rand(1,3,224,224)\n",
        "conv = nn.Conv2d(3,64,3,padding=1)\n",
        "conv \n",
        "conv2 = nn.Conv2d(64,128,3,padding=1)\n",
        "conv3 = nn.Conv2d(128,256,3,padding=1)\n",
        "conv4 = nn.Conv2d(256,512,3,padding=1)\n",
        "conv5 = nn.Conv2d(512,512,3,padding=1)\n",
        "fc1 = nn.Linear(7*7*512,4096)\n",
        "fc2 = nn.Linear(4096,4096)\n",
        "fc3 = nn.Linear(4096,1000)\n",
        "\n",
        "p = nn.MaxPool2d(2)\n",
        "x = conv(input_mock)\n",
        "x = conv2(x)\n",
        "x  = p(x)\n",
        "x = conv3(x)\n",
        "x  = p(x)\n",
        "x = conv4(x)\n",
        "x  = p(x)\n",
        "x = conv5(x)\n",
        "x  = p(x)\n",
        "x = p(x)\n",
        "x = torch.flatten(x,start_dim=1)\n",
        "x = fc1(x)\n",
        "x = fc2(x)\n",
        "x = fc3(x)\n",
        "print(x.shape)"
      ]
    },
    {
      "cell_type": "code",
      "execution_count": 43,
      "metadata": {
        "id": "By6XoRQyL_bN"
      },
      "outputs": [],
      "source": [
        "import torch\n",
        "import torch.nn as nn\n",
        "import torchvision.transforms as transforms\n",
        "\n",
        "class VGG16(nn.Module):\n",
        "\n",
        "    def __init__(self, in_channels: int = 3, num_classes: int = 1000):\n",
        "        super(VGG16, self).__init__()\n",
        "        # suggestion: look into nn.Sequential()\n",
        "        # and divide the convolutional feature extraction part of the net\n",
        "        # from the final fully-connected classification part\n",
        "        self.conv_features = nn.Sequential(\n",
        "            nn.Conv2d(in_channels,64,3,padding=1),\n",
        "            nn.ReLU(),\n",
        "            nn.Conv2d(64,64,3,padding='same'),\n",
        "            nn.ReLU(),\n",
        "            nn.MaxPool2d(2),\n",
        "\n",
        "            nn.Conv2d(64,128,3,padding='same'),\n",
        "            nn.ReLU(),\n",
        "            nn.Conv2d(128,128,3,padding='same'),\n",
        "            nn.ReLU(),\n",
        "            nn.MaxPool2d(2),\n",
        "\n",
        "            nn.Conv2d(128,256,3,padding='same'),\n",
        "            nn.ReLU(),\n",
        "            nn.Conv2d(256,256,3,padding='same'),\n",
        "            nn.ReLU(),\n",
        "            nn.Conv2d(256,256,3,padding='same'),\n",
        "            nn.ReLU(),\n",
        "            nn.MaxPool2d(2),\n",
        "\n",
        "            nn.Conv2d(256,512,3,padding='same'),\n",
        "            nn.ReLU(),\n",
        "            nn.Conv2d(512,512,3,padding='same'),\n",
        "            nn.ReLU(),\n",
        "            nn.Conv2d(512,512,3,padding='same'),\n",
        "            nn.ReLU(),\n",
        "            nn.MaxPool2d(2),\n",
        "\n",
        "            nn.Conv2d(512,512,3,padding='same'),\n",
        "            nn.ReLU(),\n",
        "            nn.Conv2d(512,512,3,padding='same'),\n",
        "            nn.ReLU(),\n",
        "            nn.Conv2d(512,512,3,padding='same'),\n",
        "            nn.ReLU(),\n",
        "            nn.MaxPool2d(2),\n",
        "\n",
        "            #7,7 -> for the optional\n",
        "            nn.AdaptiveAvgPool2d((7,7))\n",
        "        )\n",
        "        #FLATTEN\n",
        "        self.fc_classifier = nn.Sequential(\n",
        "            nn.Linear(7*7*512,4096),\n",
        "            nn.ReLU(),\n",
        "            nn.Linear(4096,4096),\n",
        "            nn.ReLU(),\n",
        "            nn.Linear(4096,num_classes),\n",
        "            nn.ReLU(),\n",
        "            nn.Softmax()\n",
        "        )\n",
        "\n",
        "        # more self.stuff here...\n",
        "    \n",
        "    def forward(self, x):\n",
        "        # code goes here for the forward function\n",
        "        x = self.conv_features(x)\n",
        "        x = torch.flatten(x, start_dim=1)\n",
        "        x = self.fc_classifier(x)\n",
        "        return x\n",
        "\n",
        "# input_mock = torch.rand(1,3,224,224)\n",
        "# net = VGG16()\n",
        "# net(input_mock).shape\n"
      ]
    },
    {
      "cell_type": "markdown",
      "metadata": {
        "id": "fGj9ISKL-5hZ"
      },
      "source": [
        "# Forward Pass Debug\n",
        "If it can process random data, then you're mostly alright :D"
      ]
    },
    {
      "cell_type": "code",
      "execution_count": 44,
      "metadata": {
        "colab": {
          "base_uri": "https://localhost:8080/"
        },
        "id": "aIFRGVCaMeY7",
        "outputId": "487b9f95-472b-4795-fb7f-c86072bf8456"
      },
      "outputs": [
        {
          "name": "stdout",
          "output_type": "stream",
          "text": [
            "Number of parameters : 138357544\n",
            "--------------------------------------------------\n",
            "output shape for imgnet torch.Size([8, 1000])\n"
          ]
        },
        {
          "name": "stderr",
          "output_type": "stream",
          "text": [
            "/usr/local/lib/python3.8/dist-packages/torch/nn/modules/container.py:139: UserWarning: Implicit dimension choice for softmax has been deprecated. Change the call to include dim=X as an argument.\n",
            "  input = module(input)\n"
          ]
        }
      ],
      "source": [
        "import numpy as np\n",
        "\n",
        "net = VGG16()\n",
        "num_params = sum([np.prod(p.shape) for p in net.parameters()])\n",
        "print(f\"Number of parameters : {num_params}\")\n",
        "print('-'*50)\n",
        "\n",
        "# test on Imagenet-like shaped data (224x224)\n",
        "\n",
        "X = torch.rand((8, 3, 224, 224))\n",
        "print('output shape for imgnet', net(X).shape)\n"
      ]
    },
    {
      "cell_type": "code",
      "execution_count": 45,
      "metadata": {
        "colab": {
          "base_uri": "https://localhost:8080/"
        },
        "id": "s2OXLXc2TEWm",
        "outputId": "662c303f-40c2-4d38-8e8a-833df110fce6"
      },
      "outputs": [
        {
          "name": "stdout",
          "output_type": "stream",
          "text": [
            "output shape for cifar torch.Size([8, 1000])\n"
          ]
        }
      ],
      "source": [
        "# test on CIFAR-like shaped data (32x32)\n",
        "\n",
        "X = torch.rand((8, 3, 32, 32))\n",
        "print('output shape for cifar', net(X).shape)"
      ]
    },
    {
      "cell_type": "markdown",
      "metadata": {
        "id": "tLlCXtaH_Lrc"
      },
      "source": [
        "# OPTIONAL: Let's train on CIFAR-10"
      ]
    },
    {
      "cell_type": "markdown",
      "metadata": {
        "id": "27n3YyGvb7Iz"
      },
      "source": [
        "let's load the dataset"
      ]
    },
    {
      "cell_type": "code",
      "execution_count": null,
      "metadata": {
        "id": "QAX1THll-IgS"
      },
      "outputs": [],
      "source": [
        "import torchvision\n",
        "import torchvision.transforms as transforms\n",
        "\n",
        "mean = (0.4913997551666284, 0.48215855929893703, 0.4465309133731618)\n",
        "std  = (0.24703225141799082, 0.24348516474564, 0.26158783926049628)\n",
        "\n",
        "# Choose the appropriate transforms for the problem at hand\n",
        "# see https://pytorch.org/docs/stable/torchvision/transforms.html\n",
        "transform = transforms.Compose(\n",
        "    [transforms.ToTensor(),\n",
        "     ... # your transforms here\n",
        "    ])\n",
        "\n",
        "trainset = torchvision.datasets.CIFAR10(root='./data', train=True,\n",
        "                                        download=True, transform=transform)\n",
        "trainloader = torch.utils.data.DataLoader(trainset, batch_size=64,\n",
        "                                          shuffle=True, num_workers=2)\n",
        "\n",
        "testset = torchvision.datasets.CIFAR10(root='./data', train=False,\n",
        "                                       download=True, transform=transform)\n",
        "testloader = torch.utils.data.DataLoader(testset, batch_size=64,\n",
        "                                         shuffle=False, num_workers=2)\n",
        "classes = ('plane', 'car', 'bird', 'cat',\n",
        "           'deer', 'dog', 'frog', 'horse', 'ship', 'truck')"
      ]
    },
    {
      "cell_type": "markdown",
      "metadata": {
        "id": "SYWA3fC1b96A"
      },
      "source": [
        "let's plot some sample images"
      ]
    },
    {
      "cell_type": "code",
      "execution_count": null,
      "metadata": {
        "id": "TXeHsX_I_veV"
      },
      "outputs": [],
      "source": [
        "import matplotlib.pyplot as plt\n",
        "\n",
        "# functions to show an image\n",
        "def imshow(img):\n",
        "    img = img * np.array(std)[:,None,None] + np.array(mean)[:,None,None] # unnormalize\n",
        "    npimg = img.numpy()\n",
        "    plt.imshow(np.transpose(npimg, (1, 2, 0)))\n",
        "    plt.show()\n",
        "\n",
        "# get some random training images\n",
        "dataiter = iter(trainloader)\n",
        "images, labels = dataiter.next()\n",
        "images, labels = images[:4], labels[:4]\n",
        "\n",
        "# show images\n",
        "imshow(torchvision.utils.make_grid(images))\n",
        "print(' '.join('%5s' % classes[labels[j]] for j in range(4)))"
      ]
    },
    {
      "cell_type": "code",
      "execution_count": null,
      "metadata": {
        "id": "-7w-ZoDu_ZKd"
      },
      "outputs": [],
      "source": [
        "assert torch.cuda.is_available(), \"Notebook is not configured properly!\"\n",
        "print('Congrats, you\\'re running this code on a', torch.cuda.get_device_name(), 'gpu')\n",
        "device = 'cuda:0'\n",
        "\n",
        "net = VGG16(...) # initialize VGG16 for this specific classification problem\n",
        "\n",
        "# Nothing works w/o Batch Norm or Proper Initialization\n",
        "def initialize_weights(model):\n",
        "    for m in model.modules():\n",
        "        if isinstance(m, nn.Conv2d):\n",
        "            nn.init.kaiming_normal_(m.weight, mode=\"fan_out\", nonlinearity=\"relu\")\n",
        "            if m.bias is not None:\n",
        "                nn.init.constant_(m.bias, 0)\n",
        "        elif isinstance(m, nn.BatchNorm2d):\n",
        "            nn.init.constant_(m.weight, 1)\n",
        "            nn.init.constant_(m.bias, 0)\n",
        "        elif isinstance(m, nn.Linear):\n",
        "            nn.init.normal_(m.weight, 0, 0.01)\n",
        "            nn.init.constant_(m.bias, 0)\n",
        "initialize_weights(net)\n",
        "\n",
        "# define here the Pytorch objects needed for training\n",
        "crit = ... # loss criterion\n",
        "opt = ... # optimizer\n",
        "epochs = 10"
      ]
    },
    {
      "cell_type": "markdown",
      "metadata": {
        "id": "-Sr1yvITcfNB"
      },
      "source": [
        "Training loop"
      ]
    },
    {
      "cell_type": "code",
      "execution_count": null,
      "metadata": {
        "id": "wNn2W2ZLKSf9"
      },
      "outputs": [],
      "source": [
        "from datetime import datetime\n",
        "from IPython.display import Image\n",
        "from tqdm.notebook import tqdm\n",
        "from IPython.display import clear_output\n",
        "from time import sleep\n",
        "import matplotlib.pyplot as plt\n",
        "\n",
        "for e in range(epochs):\n",
        "    # magic progress bar printer\n",
        "    pbar = tqdm(total=len(trainloader), desc=f'Epoch {e} - 0%')\n",
        "    \n",
        "    # training loop\n",
        "    for i, (x, y) in enumerate(trainloader):\n",
        "        \n",
        "        # forward pass goes here\n",
        "        ...\n",
        "\n",
        "        # logging functions\n",
        "        pbar.update(1)\n",
        "        pbar.set_description(f'Epoch {e} - {round(i/len(trainloader) * 100)}% -- loss {loss.item():.2f}')\n",
        "    \n",
        "    # evaluation loop\n",
        "    corr = 0\n",
        "    with torch.no_grad():\n",
        "        for x, y in testloader:\n",
        "            ...\n",
        "            corr += ...\n",
        "    print(f\"Accuracy for epoch {e}:{corr / len(testset)}\")"
      ]
    }
  ],
  "metadata": {
    "accelerator": "GPU",
    "colab": {
      "provenance": []
    },
    "kernelspec": {
      "display_name": "Python 3.9.12 ('base')",
      "language": "python",
      "name": "python3"
    },
    "language_info": {
      "name": "python",
      "version": "3.9.12"
    },
    "vscode": {
      "interpreter": {
        "hash": "b14c27cae524dbfd45c9571a7f9fd7a7eb1f23084315ebefbabcf7e59126cc81"
      }
    }
  },
  "nbformat": 4,
  "nbformat_minor": 0
}
