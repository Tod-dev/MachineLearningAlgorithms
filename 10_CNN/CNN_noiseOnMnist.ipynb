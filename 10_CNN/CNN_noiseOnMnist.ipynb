{
  "cells": [
    {
      "cell_type": "markdown",
      "metadata": {
        "id": "KAHaEvsWW8j3"
      },
      "source": [
        "Importo i pacchetti necessari, carico il dataset e lo normalizzo.\n"
      ]
    },
    {
      "cell_type": "code",
      "execution_count": null,
      "metadata": {
        "colab": {
          "base_uri": "https://localhost:8080/"
        },
        "id": "E5yhK97UWWRu",
        "outputId": "e0621d7f-d68e-4a6b-b249-6ca2cbf8bd98"
      },
      "outputs": [
        {
          "name": "stdout",
          "output_type": "stream",
          "text": [
            "Downloading data from https://storage.googleapis.com/tensorflow/tf-keras-datasets/mnist.npz\n",
            "11493376/11490434 [==============================] - 0s 0us/step\n"
          ]
        }
      ],
      "source": [
        "import tensorflow as tf\n",
        "from tensorflow import keras\n",
        "from tensorflow.keras.models import Sequential, save_model\n",
        "from tensorflow.keras.layers import InputLayer, Conv2D\n",
        "from tensorflow.keras.datasets import mnist\n",
        "import numpy as np\n",
        "import matplotlib.pyplot as plt\n",
        "from sklearn.model_selection import train_test_split\n",
        "\n",
        "(train_images,train_labels),(test_images, test_labels) = mnist.load_data()\n",
        "\n",
        "x,y,z = train_images.shape\n",
        "a,b,c = test_images.shape\n",
        "train_images = train_images.astype('float32') / 255.\n",
        "test_images = test_images.astype('float32') / 255."
      ]
    },
    {
      "cell_type": "markdown",
      "metadata": {
        "id": "iV8_-iQDW7e8"
      },
      "source": [
        "Controlliamo le dimensioni dei dataset train/test e stampiamo un campione:\n"
      ]
    },
    {
      "cell_type": "code",
      "execution_count": null,
      "metadata": {
        "colab": {
          "base_uri": "https://localhost:8080/"
        },
        "id": "lArs_kE8X6ob",
        "outputId": "362d2bb7-e9a5-43e4-c2bf-baec54a6aa51"
      },
      "outputs": [
        {
          "data": {
            "text/plain": [
              "TensorShape([54000, 28, 28, 1])"
            ]
          },
          "execution_count": 13,
          "metadata": {
            "tags": []
          },
          "output_type": "execute_result"
        }
      ],
      "source": [
        "np.shape(train_images)"
      ]
    },
    {
      "cell_type": "code",
      "execution_count": null,
      "metadata": {
        "colab": {
          "base_uri": "https://localhost:8080/",
          "height": 282
        },
        "id": "NstL_5dHXKVy",
        "outputId": "5833b063-38e9-4948-a221-64ce0faf799f"
      },
      "outputs": [
        {
          "data": {
            "text/plain": [
              "7"
            ]
          },
          "execution_count": 3,
          "metadata": {
            "tags": []
          },
          "output_type": "execute_result"
        },
        {
          "data": {
            "image/png": "[encoded data removed]",
            "text/plain": [
              "<Figure size 432x288 with 1 Axes>"
            ]
          },
          "metadata": {
            "needs_background": "light",
            "tags": []
          },
          "output_type": "display_data"
        }
      ],
      "source": [
        "plt.imshow(train_images[42,:,:], cmap='gray', vmin=0, vmax=1.)\n",
        "train_labels[42]"
      ]
    },
    {
      "cell_type": "code",
      "execution_count": null,
      "metadata": {
        "colab": {
          "base_uri": "https://localhost:8080/"
        },
        "id": "pi3hS0b0ZDrg",
        "outputId": "dfabc313-1a60-4d62-de12-4985bc893f4a"
      },
      "outputs": [
        {
          "data": {
            "text/plain": [
              "TensorShape([10000, 28, 28, 1])"
            ]
          },
          "execution_count": 14,
          "metadata": {
            "tags": []
          },
          "output_type": "execute_result"
        }
      ],
      "source": [
        "np.shape(test_images)"
      ]
    },
    {
      "cell_type": "code",
      "execution_count": null,
      "metadata": {
        "colab": {
          "base_uri": "https://localhost:8080/",
          "height": 282
        },
        "id": "B3Jc7aEWaCoy",
        "outputId": "3b6808bb-a02a-489d-ccf0-9bc44ff05baa"
      },
      "outputs": [
        {
          "data": {
            "text/plain": [
              "4"
            ]
          },
          "execution_count": 5,
          "metadata": {
            "tags": []
          },
          "output_type": "execute_result"
        },
        {
          "data": {
            "image/png": "[encoded data removed]",
            "text/plain": [
              "<Figure size 432x288 with 1 Axes>"
            ]
          },
          "metadata": {
            "needs_background": "light",
            "tags": []
          },
          "output_type": "display_data"
        }
      ],
      "source": [
        "plt.imshow(test_images[42,:,:], cmap='gray', vmin=0, vmax=1.)\n",
        "test_labels[42]"
      ]
    },
    {
      "cell_type": "markdown",
      "metadata": {
        "id": "j1mLYF4GZfcg"
      },
      "source": [
        "Versione corrotta:"
      ]
    },
    {
      "cell_type": "code",
      "execution_count": null,
      "metadata": {
        "id": "mvOAmbZ8Ziek"
      },
      "outputs": [],
      "source": [
        "sigma = 0.3\n",
        "train_corrupt = np.zeros(train_images.shape, dtype=float)\n",
        "\n",
        "\n",
        "for i in range(x):\n",
        "    for j in range(y):\n",
        "        train_corrupt[i,j,:] = train_images[i,j,:] + sigma* np.random.randn()\n",
        "        \n",
        "\n",
        "test_corrupt = np.zeros(test_images.shape, dtype=float)\n",
        "for i in range(a):\n",
        "    for j in range(b):       \n",
        "        test_corrupt[i,j,:] = test_images[i,j,:] + sigma* np.random.randn()"
      ]
    },
    {
      "cell_type": "markdown",
      "metadata": {
        "id": "ZFMP_zRfayn5"
      },
      "source": [
        "Verifichiamo come sono le nuove immagini:"
      ]
    },
    {
      "cell_type": "code",
      "execution_count": null,
      "metadata": {
        "colab": {
          "base_uri": "https://localhost:8080/",
          "height": 282
        },
        "id": "QClYNTMPa-Dp",
        "outputId": "4291f483-9ddd-4ad5-e946-8f231ae5c5bb"
      },
      "outputs": [
        {
          "data": {
            "text/plain": [
              "<matplotlib.image.AxesImage at 0x7f782d85cb50>"
            ]
          },
          "execution_count": 7,
          "metadata": {
            "tags": []
          },
          "output_type": "execute_result"
        },
        {
          "data": {
            "image/png": "[encoded data removed]",
            "text/plain": [
              "<Figure size 432x288 with 1 Axes>"
            ]
          },
          "metadata": {
            "needs_background": "light",
            "tags": []
          },
          "output_type": "display_data"
        }
      ],
      "source": [
        "plt.imshow(train_corrupt[42,:,:], cmap='gray', vmin=0, vmax=1.)"
      ]
    },
    {
      "cell_type": "code",
      "execution_count": null,
      "metadata": {
        "colab": {
          "base_uri": "https://localhost:8080/",
          "height": 282
        },
        "id": "cnv4DmZkbaAK",
        "outputId": "80aab5b5-3f13-4a11-9fe5-cb7893e4d660"
      },
      "outputs": [
        {
          "data": {
            "text/plain": [
              "<matplotlib.image.AxesImage at 0x7f782d84f2d0>"
            ]
          },
          "execution_count": 8,
          "metadata": {
            "tags": []
          },
          "output_type": "execute_result"
        },
        {
          "data": {
            "image/png": "[encoded data removed]",
            "text/plain": [
              "<Figure size 432x288 with 1 Axes>"
            ]
          },
          "metadata": {
            "needs_background": "light",
            "tags": []
          },
          "output_type": "display_data"
        }
      ],
      "source": [
        "plt.imshow(test_corrupt[42,:,:], cmap='gray', vmin=0, vmax=1.)"
      ]
    },
    {
      "cell_type": "markdown",
      "metadata": {
        "id": "Z64dQ4_4-FfJ"
      },
      "source": [
        "Isolo una percentuale del train da utilizzare come validation per Early stopping:"
      ]
    },
    {
      "cell_type": "code",
      "execution_count": null,
      "metadata": {
        "id": "hSj2mbFIcOow"
      },
      "outputs": [],
      "source": [
        "train_corrupt, val_corrupt, train_images, val_images = train_test_split(train_corrupt, train_images, test_size=0.1, shuffle=False)"
      ]
    },
    {
      "cell_type": "code",
      "execution_count": null,
      "metadata": {
        "id": "cwBv29Jx2tfz"
      },
      "outputs": [],
      "source": [
        "train_corrupt = tf.reshape(train_corrupt, [-1,28,28,1])\n",
        "val_corrupt = tf.reshape(val_corrupt, [-1,28,28,1])\n",
        "test_corrupt = tf.reshape(test_corrupt, [-1,28,28,1])\n",
        "train_images = tf.reshape(train_images, [-1,28,28,1])\n",
        "test_images = tf.reshape(test_images, [-1,28,28,1])\n",
        "val_images = tf.reshape(val_images, [-1,28,28,1])"
      ]
    },
    {
      "cell_type": "code",
      "execution_count": null,
      "metadata": {
        "id": "PWEOjCLh6ASk"
      },
      "outputs": [],
      "source": [
        "X = train_corrupt\n",
        "Y = train_images\n",
        "\n",
        "A = val_corrupt\n",
        "B = val_images"
      ]
    },
    {
      "cell_type": "markdown",
      "metadata": {
        "id": "3BdbI7k9-Q1g"
      },
      "source": [
        "Creo e traino il modello, definisco tutti gli iperparametri:"
      ]
    },
    {
      "cell_type": "code",
      "execution_count": null,
      "metadata": {
        "colab": {
          "base_uri": "https://localhost:8080/"
        },
        "id": "fG8zBNMw6VDy",
        "outputId": "162da9ff-e643-429b-f09e-bbc0fed27f68"
      },
      "outputs": [
        {
          "name": "stdout",
          "output_type": "stream",
          "text": [
            "Epoch 1/20\n",
            "1688/1688 [==============================] - 42s 8ms/step - loss: 0.0204 - mae: 0.0598 - val_loss: 0.0034 - val_mae: 0.0206\n",
            "Epoch 2/20\n",
            "1688/1688 [==============================] - 12s 7ms/step - loss: 0.0031 - mae: 0.0196 - val_loss: 0.0028 - val_mae: 0.0174\n",
            "Epoch 3/20\n",
            "1688/1688 [==============================] - 12s 7ms/step - loss: 0.0023 - mae: 0.0163 - val_loss: 0.0021 - val_mae: 0.0149\n",
            "Epoch 4/20\n",
            "1688/1688 [==============================] - 12s 7ms/step - loss: 0.0020 - mae: 0.0147 - val_loss: 0.0018 - val_mae: 0.0135\n",
            "Epoch 5/20\n",
            "1688/1688 [==============================] - 12s 7ms/step - loss: 0.0018 - mae: 0.0138 - val_loss: 0.0017 - val_mae: 0.0133\n",
            "Epoch 6/20\n",
            "1688/1688 [==============================] - 12s 7ms/step - loss: 0.0017 - mae: 0.0131 - val_loss: 0.0016 - val_mae: 0.0128\n",
            "Epoch 7/20\n",
            "1688/1688 [==============================] - 12s 7ms/step - loss: 0.0016 - mae: 0.0126 - val_loss: 0.0015 - val_mae: 0.0120\n",
            "Epoch 8/20\n",
            "1688/1688 [==============================] - 12s 7ms/step - loss: 0.0015 - mae: 0.0123 - val_loss: 0.0019 - val_mae: 0.0134\n",
            "Epoch 9/20\n",
            "1688/1688 [==============================] - 12s 7ms/step - loss: 0.0015 - mae: 0.0122 - val_loss: 0.0014 - val_mae: 0.0121\n",
            "Epoch 10/20\n",
            "1688/1688 [==============================] - 12s 7ms/step - loss: 0.0014 - mae: 0.0118 - val_loss: 0.0013 - val_mae: 0.0113\n",
            "Epoch 11/20\n",
            "1688/1688 [==============================] - 12s 7ms/step - loss: 0.0014 - mae: 0.0116 - val_loss: 0.0014 - val_mae: 0.0121\n",
            "Epoch 12/20\n",
            "1688/1688 [==============================] - 12s 7ms/step - loss: 0.0013 - mae: 0.0114 - val_loss: 0.0012 - val_mae: 0.0104\n",
            "Epoch 13/20\n",
            "1688/1688 [==============================] - 12s 7ms/step - loss: 0.0012 - mae: 0.0110 - val_loss: 0.0012 - val_mae: 0.0106\n",
            "Epoch 14/20\n",
            "1688/1688 [==============================] - 12s 7ms/step - loss: 0.0012 - mae: 0.0107 - val_loss: 0.0012 - val_mae: 0.0112\n",
            "Epoch 15/20\n",
            "1688/1688 [==============================] - 12s 7ms/step - loss: 0.0011 - mae: 0.0106 - val_loss: 0.0010 - val_mae: 0.0098\n",
            "Epoch 16/20\n",
            "1688/1688 [==============================] - 12s 7ms/step - loss: 0.0011 - mae: 0.0103 - val_loss: 0.0010 - val_mae: 0.0098\n",
            "Epoch 17/20\n",
            "1688/1688 [==============================] - 12s 7ms/step - loss: 0.0010 - mae: 0.0101 - val_loss: 0.0010 - val_mae: 0.0099\n",
            "Epoch 18/20\n",
            "1688/1688 [==============================] - 12s 7ms/step - loss: 9.8654e-04 - mae: 0.0098 - val_loss: 0.0011 - val_mae: 0.0109\n",
            "Epoch 19/20\n",
            "1688/1688 [==============================] - 12s 7ms/step - loss: 9.5371e-04 - mae: 0.0096 - val_loss: 9.4478e-04 - val_mae: 0.0097\n",
            "Epoch 20/20\n",
            "1688/1688 [==============================] - 12s 7ms/step - loss: 9.2410e-04 - mae: 0.0094 - val_loss: 8.5692e-04 - val_mae: 0.0089\n"
          ]
        }
      ],
      "source": [
        "model = Sequential()\n",
        "model.add(InputLayer(input_shape = (y,z,1)))\n",
        "model.add(Conv2D(4,(7,7), padding = 'same', activation = 'relu', data_format = 'channels_last'))\n",
        "model.add(Conv2D(8,(3,3), padding = 'same', activation = 'relu', data_format = 'channels_last'))\n",
        "model.add(Conv2D(1,(7,7), padding = 'same', activation = 'relu', data_format = 'channels_last'))\n",
        "model.add(Conv2D(4,(5,5), padding = 'same', activation = 'relu', data_format = 'channels_last'))\n",
        "\n",
        "opt = tf.keras.optimizers.Adam(learning_rate=1e-3)\n",
        "model.compile(loss = tf.keras.losses.MeanSquaredError() ,optimizer = opt, metrics = ['mae'])\n",
        "callback = tf.keras.callbacks.EarlyStopping(monitor = 'val_loss', patience = 3, restore_best_weights= True)\n",
        "\n",
        "history = model.fit(\n",
        "    X,\n",
        "    Y,\n",
        "    epochs=20,\n",
        "    callbacks = [callback],\n",
        "    batch_size=32,\n",
        "    validation_data=(A,B)\n",
        ")"
      ]
    },
    {
      "cell_type": "markdown",
      "metadata": {
        "id": "af9IJzcy_fPO"
      },
      "source": [
        "Testiamo il modello:"
      ]
    },
    {
      "cell_type": "code",
      "execution_count": null,
      "metadata": {
        "id": "rlj1Q5EeDTM2"
      },
      "outputs": [],
      "source": [
        "predictions = model.predict(test_corrupt)"
      ]
    },
    {
      "cell_type": "code",
      "execution_count": null,
      "metadata": {
        "colab": {
          "base_uri": "https://localhost:8080/"
        },
        "id": "nPWJsIy-DbwI",
        "outputId": "5488f1cf-8bf4-473f-fc26-d1dfbba96c5f"
      },
      "outputs": [
        {
          "name": "stdout",
          "output_type": "stream",
          "text": [
            "313/313 [==============================] - 1s 3ms/step - loss: 4.8615e-04 - mae: 0.0066\n"
          ]
        }
      ],
      "source": [
        "results =  model.evaluate(test_corrupt,test_images)\n"
      ]
    },
    {
      "cell_type": "markdown",
      "metadata": {
        "id": "bkskmxrR_nei"
      },
      "source": [
        "Stampiamo una immagine: predetta/corrotta/originale/differenza:"
      ]
    },
    {
      "cell_type": "code",
      "execution_count": null,
      "metadata": {
        "colab": {
          "base_uri": "https://localhost:8080/",
          "height": 282
        },
        "id": "5FBE4TOiDwnC",
        "outputId": "b7901995-4d30-4feb-cad2-d44a273d893b"
      },
      "outputs": [
        {
          "data": {
            "text/plain": [
              "<matplotlib.image.AxesImage at 0x7f782009de10>"
            ]
          },
          "execution_count": 18,
          "metadata": {
            "tags": []
          },
          "output_type": "execute_result"
        },
        {
          "data": {
            "image/png": "[encoded data removed]",
            "text/plain": [
              "<Figure size 432x288 with 1 Axes>"
            ]
          },
          "metadata": {
            "needs_background": "light",
            "tags": []
          },
          "output_type": "display_data"
        }
      ],
      "source": [
        "pred = np.asarray(predictions)\n",
        "uno = pred[42,:,:,0]\n",
        "plt.imshow(uno,cmap='gray', vmin=0, vmax=1.)"
      ]
    },
    {
      "cell_type": "code",
      "execution_count": null,
      "metadata": {
        "colab": {
          "base_uri": "https://localhost:8080/",
          "height": 282
        },
        "id": "dXL_0UC3D3vH",
        "outputId": "fc95ae07-fb42-402e-c042-a40ab98babc0"
      },
      "outputs": [
        {
          "data": {
            "text/plain": [
              "<matplotlib.image.AxesImage at 0x7f78201ccd50>"
            ]
          },
          "execution_count": 19,
          "metadata": {
            "tags": []
          },
          "output_type": "execute_result"
        },
        {
          "data": {
            "image/png": "[encoded data removed]",
            "text/plain": [
              "<Figure size 432x288 with 1 Axes>"
            ]
          },
          "metadata": {
            "needs_background": "light",
            "tags": []
          },
          "output_type": "display_data"
        }
      ],
      "source": [
        "uno_stripe = test_corrupt[42,:,:,0]\n",
        "plt.imshow(uno_stripe,cmap='gray', vmin=0, vmax=1.)"
      ]
    },
    {
      "cell_type": "code",
      "execution_count": null,
      "metadata": {
        "colab": {
          "base_uri": "https://localhost:8080/",
          "height": 282
        },
        "id": "eox4cVB1ED6o",
        "outputId": "0b7019e2-61f5-45d4-f69c-548612d6d662"
      },
      "outputs": [
        {
          "data": {
            "text/plain": [
              "<matplotlib.image.AxesImage at 0x7f78200acf10>"
            ]
          },
          "execution_count": 20,
          "metadata": {
            "tags": []
          },
          "output_type": "execute_result"
        },
        {
          "data": {
            "image/png": "[encoded data removed]",
            "text/plain": [
              "<Figure size 432x288 with 1 Axes>"
            ]
          },
          "metadata": {
            "needs_background": "light",
            "tags": []
          },
          "output_type": "display_data"
        }
      ],
      "source": [
        "uno_label = test_images[42,:,:,0]\n",
        "plt.imshow(uno_label,cmap='gray', vmin=0, vmax=1.)"
      ]
    },
    {
      "cell_type": "code",
      "execution_count": null,
      "metadata": {
        "colab": {
          "base_uri": "https://localhost:8080/",
          "height": 282
        },
        "id": "YI_tkNcyEKy6",
        "outputId": "4c13a324-0588-473b-a7b2-ee9764c7f8b1"
      },
      "outputs": [
        {
          "data": {
            "text/plain": [
              "<matplotlib.colorbar.Colorbar at 0x7f777e3369d0>"
            ]
          },
          "execution_count": 21,
          "metadata": {
            "tags": []
          },
          "output_type": "execute_result"
        },
        {
          "data": {
            "image/png": "[encoded data removed]",
            "text/plain": [
              "<Figure size 432x288 with 2 Axes>"
            ]
          },
          "metadata": {
            "needs_background": "light",
            "tags": []
          },
          "output_type": "display_data"
        }
      ],
      "source": [
        "diff=np.abs(uno_label-uno)\n",
        "plt.imshow(diff,cmap='gray', vmin=0, vmax=np.max(diff))\n",
        "plt.colorbar()"
      ]
    },
    {
      "cell_type": "code",
      "execution_count": null,
      "metadata": {
        "colab": {
          "base_uri": "https://localhost:8080/"
        },
        "id": "-ZzITqtYEOn5",
        "outputId": "d51f0f2f-879c-4c36-b652-dfce720233dd"
      },
      "outputs": [
        {
          "data": {
            "text/plain": [
              "0.085398436"
            ]
          },
          "execution_count": 22,
          "metadata": {
            "tags": []
          },
          "output_type": "execute_result"
        }
      ],
      "source": [
        "np.max(diff)"
      ]
    },
    {
      "cell_type": "markdown",
      "metadata": {
        "id": "6sgAzmDwBQh-"
      },
      "source": [
        "Stampiamo il riassunto del modello:"
      ]
    },
    {
      "cell_type": "code",
      "execution_count": null,
      "metadata": {
        "colab": {
          "base_uri": "https://localhost:8080/",
          "height": 533
        },
        "id": "Nw5sr8GEG9tP",
        "outputId": "1fddfc1b-44a4-42ee-f610-873e31d74fe9"
      },
      "outputs": [
        {
          "data": {
            "image/png": "[encoded data removed]",
            "text/plain": [
              "<IPython.core.display.Image object>"
            ]
          },
          "execution_count": 23,
          "metadata": {
            "tags": []
          },
          "output_type": "execute_result"
        }
      ],
      "source": [
        "tf.keras.utils.plot_model(\n",
        "    model, to_file='model.png', show_shapes=True, show_dtype=False,\n",
        "    show_layer_names=True, rankdir='TB', expand_nested=False, dpi=96\n",
        ")"
      ]
    },
    {
      "cell_type": "markdown",
      "metadata": {
        "id": "oKik6q2KGVJW"
      },
      "source": [
        "Stampiamo loss e performance sul train e validation:"
      ]
    },
    {
      "cell_type": "code",
      "execution_count": null,
      "metadata": {
        "colab": {
          "base_uri": "https://localhost:8080/",
          "height": 295
        },
        "id": "yFZcQEghHi8A",
        "outputId": "14d492c7-c766-453f-f2ae-35221c57a48b"
      },
      "outputs": [
        {
          "data": {
            "image/png": "[encoded data removed]",
            "text/plain": [
              "<Figure size 432x288 with 1 Axes>"
            ]
          },
          "metadata": {
            "needs_background": "light",
            "tags": []
          },
          "output_type": "display_data"
        }
      ],
      "source": [
        "plt.plot(history.history['mae'])\n",
        "plt.plot(history.history['val_mae'])\n",
        "plt.title('model mae')\n",
        "plt.ylabel('mae')\n",
        "plt.xlabel('epoch')\n",
        "plt.legend(['train', 'test'], loc='upper right')\n",
        "plt.show()"
      ]
    },
    {
      "cell_type": "code",
      "execution_count": null,
      "metadata": {
        "colab": {
          "base_uri": "https://localhost:8080/",
          "height": 295
        },
        "id": "VLX4HHdiIzlR",
        "outputId": "b77bc295-d938-4c0c-d470-17e5000cbb29"
      },
      "outputs": [
        {
          "data": {
            "image/png": "[encoded data removed]",
            "text/plain": [
              "<Figure size 432x288 with 1 Axes>"
            ]
          },
          "metadata": {
            "needs_background": "light",
            "tags": []
          },
          "output_type": "display_data"
        }
      ],
      "source": [
        "plt.plot(history.history['loss'])\n",
        "plt.plot(history.history['val_loss'])\n",
        "plt.title('model loss')\n",
        "plt.ylabel('loss')\n",
        "plt.xlabel('epoch')\n",
        "plt.legend(['train', 'test'], loc='upper right')\n",
        "plt.show()"
      ]
    }
  ],
  "metadata": {
    "accelerator": "GPU",
    "colab": {
      "collapsed_sections": [],
      "name": "Lezione_CNN.ipynb",
      "provenance": []
    },
    "kernelspec": {
      "display_name": "Python 3.9.12 ('base')",
      "language": "python",
      "name": "python3"
    },
    "language_info": {
      "name": "python",
      "version": "3.9.12 (main, Apr  5 2022, 06:56:58) \n[GCC 7.5.0]"
    },
    "vscode": {
      "interpreter": {
        "hash": "b14c27cae524dbfd45c9571a7f9fd7a7eb1f23084315ebefbabcf7e59126cc81"
      }
    }
  },
  "nbformat": 4,
  "nbformat_minor": 0
}
