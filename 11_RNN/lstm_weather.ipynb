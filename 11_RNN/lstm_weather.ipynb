{
  "cells": [
    {
      "cell_type": "markdown",
      "metadata": {
        "id": "6iEY3BG_3O2J"
      },
      "source": [
        "# Dataset Preparation"
      ]
    },
    {
      "cell_type": "code",
      "execution_count": 10,
      "metadata": {
        "id": "tDeLG_842_JE"
      },
      "outputs": [],
      "source": [
        "import urllib.request\n",
        "import zipfile\n",
        "import pandas as pd\n",
        "import numpy as np\n",
        "import pickle\n",
        "import os\n",
        "import numpy as np\n",
        "from tqdm.notebook import tqdm\n",
        "from random import shuffle\n",
        "import torch\n",
        "from torch.utils.data import Dataset\n",
        "\n",
        "class WeatherJenaDataset(Dataset):\n",
        "    MEAN = [ 9.88656343e+02,  9.10820659e+00,  2.83194958e+02,  4.59960541e+00,\n",
        "        7.59060084e+01,  1.33550981e+01,  9.35695962e+00,  3.99805597e+00,\n",
        "        5.91355033e+00,  9.46637099e+00,  1.21699436e+03, -5.94181630e-01,\n",
        "       -3.91512714e-01, -9.62158759e-01, -7.09400721e-01, -5.43022767e-05,\n",
        "       -7.24215306e-05,  5.28237873e-02, -1.62425716e-02]\n",
        "    STD = [ 8.29746565,  8.65494994,  8.72474584,  6.97227477, 16.55533649,\n",
        "        7.69473767,  4.20825963,  4.8177406 ,  2.67125215,  4.26005455,\n",
        "       40.95770444,  2.0129306 ,  1.56150746,  3.12732207,  2.61966312,\n",
        "        0.70709063,  0.70713733,  0.70062267,  0.71140285]\n",
        "\n",
        "    def download_dataset(self, root, download):\n",
        "        path = os.path.join(*[root, 'data.pkl'])\n",
        "        if not os.path.exists(path) and download:\n",
        "            # download dataset and import with pandas\n",
        "            url='https://storage.googleapis.com/tensorflow/tf-keras-datasets/jena_climate_2009_2016.csv.zip'\n",
        "            print('Downloading dataset...')\n",
        "            filehandle, _ = urllib.request.urlretrieve(url)\n",
        "            zip_file_object = zipfile.ZipFile(filehandle, 'r')\n",
        "            first_file = zip_file_object.namelist()[0]\n",
        "            df = pd.read_csv(zip_file_object.open(first_file, 'r'))\n",
        "            df = self.prepare_dataset(df)\n",
        "            os.makedirs(root, exist_ok=True)\n",
        "            pd.to_pickle(df, path)\n",
        "            print('Download complete!')\n",
        "        else:\n",
        "            assert os.path.exists(path)\n",
        "            df = pd.read_pickle(path)\n",
        "            print('Files already downloaded and verified')\n",
        "        return df        \n",
        "\n",
        "    def prepare_dataset(self, df):\n",
        "        # subsample\n",
        "        print(df.shape, self.__dir__())\n",
        "        df = df.iloc[5::self.subsample_rate]\n",
        "        date_time = pd.to_datetime(df.pop('Date Time'), format='%d.%m.%Y %H:%M:%S')\n",
        "        \n",
        "        # decompose wind speed\n",
        "        wv = df['wv (m/s)']\n",
        "        bad_wv = wv == -9999.0\n",
        "        wv.loc[bad_wv] = 0.0\n",
        "        max_wv = df['max. wv (m/s)']\n",
        "        bad_max_wv = max_wv == -9999.0\n",
        "        max_wv.loc[bad_max_wv] = 0.0\n",
        "        # df['wv (m/s)'].min()\n",
        "        wv = df.pop('wv (m/s)')\n",
        "        max_wv = df.pop('max. wv (m/s)')\n",
        "        wd_rad = df.pop('wd (deg)')*np.pi / 180\n",
        "        df.loc['Wx'] = wv*np.cos(wd_rad)\n",
        "        df.loc['Wy'] = wv*np.sin(wd_rad)\n",
        "        df.loc['max Wx'] = max_wv*np.cos(wd_rad)\n",
        "        df.loc['max Wy'] = max_wv*np.sin(wd_rad)\n",
        "\n",
        "        # decompose day/year signal\n",
        "        day = 24*60*60\n",
        "        year = (365.2425)*day\n",
        "        timestamp_s = date_time.map(pd.Timestamp.timestamp)\n",
        "        df.loc['Day sin'] = np.sin(timestamp_s * (2 * np.pi / day))\n",
        "        df.loc['Day cos'] = np.cos(timestamp_s * (2 * np.pi / day))\n",
        "        df.loc['Year sin'] = np.sin(timestamp_s * (2 * np.pi / year))\n",
        "        df.loc['Year cos'] = np.cos(timestamp_s * (2 * np.pi / year))\n",
        "\n",
        "        return df\n",
        "\n",
        "    def split_dataset(self, df, train):\n",
        "        n = len(df)\n",
        "        if train:\n",
        "            return df[0:int(n*0.7)]\n",
        "        else:\n",
        "            return df[int(n*0.7):]\n",
        "\n",
        "    def __init__(self, root, input_width=12, label_shift=2, train=True, download=True, subsample_rate=6):\n",
        "        super().__init__()\n",
        "        self.subsample_rate = subsample_rate\n",
        "        self.label_shift = label_shift\n",
        "        self.input_width = input_width\n",
        "        self.ds = self.split_dataset(self.download_dataset(root, download), train)\n",
        "    \n",
        "    def __len__(self):\n",
        "        return len(self.ds) - self.input_width - self.label_shift\n",
        "\n",
        "    def __getitem__(self, idx):\n",
        "        x = self.ds.iloc[idx:idx+self.input_width].values\n",
        "        y = self.ds.iloc[idx+self.input_width+self.label_shift]['T (degC)'].astype('float32')\n",
        "        x = torch.tensor((x - np.array(self.MEAN)) / np.array(self.STD)).float()\n",
        "        return x, y"
      ]
    },
    {
      "cell_type": "code",
      "execution_count": 11,
      "metadata": {
        "id": "QecnkxJp_xaG"
      },
      "outputs": [
        {
          "name": "stdout",
          "output_type": "stream",
          "text": [
            "Files already downloaded and verified\n"
          ]
        },
        {
          "data": {
            "text/html": [
              "<div>\n",
              "<style scoped>\n",
              "    .dataframe tbody tr th:only-of-type {\n",
              "        vertical-align: middle;\n",
              "    }\n",
              "\n",
              "    .dataframe tbody tr th {\n",
              "        vertical-align: top;\n",
              "    }\n",
              "\n",
              "    .dataframe thead th {\n",
              "        text-align: right;\n",
              "    }\n",
              "</style>\n",
              "<table border=\"1\" class=\"dataframe\">\n",
              "  <thead>\n",
              "    <tr style=\"text-align: right;\">\n",
              "      <th></th>\n",
              "      <th>p (mbar)</th>\n",
              "      <th>T (degC)</th>\n",
              "      <th>Tpot (K)</th>\n",
              "      <th>Tdew (degC)</th>\n",
              "      <th>rh (%)</th>\n",
              "      <th>VPmax (mbar)</th>\n",
              "      <th>VPact (mbar)</th>\n",
              "      <th>VPdef (mbar)</th>\n",
              "      <th>sh (g/kg)</th>\n",
              "      <th>H2OC (mmol/mol)</th>\n",
              "      <th>rho (g/m**3)</th>\n",
              "    </tr>\n",
              "  </thead>\n",
              "  <tbody>\n",
              "    <tr>\n",
              "      <th>294419</th>\n",
              "      <td>991.45</td>\n",
              "      <td>14.24</td>\n",
              "      <td>288.11</td>\n",
              "      <td>14.05</td>\n",
              "      <td>98.8</td>\n",
              "      <td>16.26</td>\n",
              "      <td>16.06</td>\n",
              "      <td>0.20</td>\n",
              "      <td>10.14</td>\n",
              "      <td>16.20</td>\n",
              "      <td>1194.38</td>\n",
              "    </tr>\n",
              "    <tr>\n",
              "      <th>294425</th>\n",
              "      <td>991.42</td>\n",
              "      <td>16.58</td>\n",
              "      <td>290.45</td>\n",
              "      <td>16.21</td>\n",
              "      <td>97.7</td>\n",
              "      <td>18.90</td>\n",
              "      <td>18.46</td>\n",
              "      <td>0.43</td>\n",
              "      <td>11.66</td>\n",
              "      <td>18.62</td>\n",
              "      <td>1183.61</td>\n",
              "    </tr>\n",
              "    <tr>\n",
              "      <th>294431</th>\n",
              "      <td>991.46</td>\n",
              "      <td>17.57</td>\n",
              "      <td>291.44</td>\n",
              "      <td>16.02</td>\n",
              "      <td>90.6</td>\n",
              "      <td>20.12</td>\n",
              "      <td>18.23</td>\n",
              "      <td>1.89</td>\n",
              "      <td>11.52</td>\n",
              "      <td>18.39</td>\n",
              "      <td>1179.74</td>\n",
              "    </tr>\n",
              "    <tr>\n",
              "      <th>294437</th>\n",
              "      <td>991.32</td>\n",
              "      <td>19.23</td>\n",
              "      <td>293.12</td>\n",
              "      <td>16.03</td>\n",
              "      <td>81.7</td>\n",
              "      <td>22.33</td>\n",
              "      <td>18.24</td>\n",
              "      <td>4.09</td>\n",
              "      <td>11.53</td>\n",
              "      <td>18.40</td>\n",
              "      <td>1172.87</td>\n",
              "    </tr>\n",
              "    <tr>\n",
              "      <th>294443</th>\n",
              "      <td>991.14</td>\n",
              "      <td>20.19</td>\n",
              "      <td>294.10</td>\n",
              "      <td>16.17</td>\n",
              "      <td>77.7</td>\n",
              "      <td>23.70</td>\n",
              "      <td>18.41</td>\n",
              "      <td>5.28</td>\n",
              "      <td>11.64</td>\n",
              "      <td>18.58</td>\n",
              "      <td>1168.74</td>\n",
              "    </tr>\n",
              "  </tbody>\n",
              "</table>\n",
              "</div>"
            ],
            "text/plain": [
              "        p (mbar)  T (degC)  Tpot (K)  Tdew (degC)  rh (%)  VPmax (mbar)  \\\n",
              "294419    991.45     14.24    288.11        14.05    98.8         16.26   \n",
              "294425    991.42     16.58    290.45        16.21    97.7         18.90   \n",
              "294431    991.46     17.57    291.44        16.02    90.6         20.12   \n",
              "294437    991.32     19.23    293.12        16.03    81.7         22.33   \n",
              "294443    991.14     20.19    294.10        16.17    77.7         23.70   \n",
              "\n",
              "        VPact (mbar)  VPdef (mbar)  sh (g/kg)  H2OC (mmol/mol)  rho (g/m**3)  \n",
              "294419         16.06          0.20      10.14            16.20       1194.38  \n",
              "294425         18.46          0.43      11.66            18.62       1183.61  \n",
              "294431         18.23          1.89      11.52            18.39       1179.74  \n",
              "294437         18.24          4.09      11.53            18.40       1172.87  \n",
              "294443         18.41          5.28      11.64            18.58       1168.74  "
            ]
          },
          "execution_count": 11,
          "metadata": {},
          "output_type": "execute_result"
        }
      ],
      "source": [
        "WeatherJenaDataset('data', train=False).ds.head()"
      ]
    },
    {
      "cell_type": "code",
      "execution_count": 12,
      "metadata": {
        "id": "6yNtjWw9o8mM"
      },
      "outputs": [
        {
          "name": "stdout",
          "output_type": "stream",
          "text": [
            "Files already downloaded and verified\n",
            "Files already downloaded and verified\n"
          ]
        }
      ],
      "source": [
        "from torch.utils.data import DataLoader\n",
        "\n",
        "train_ds = WeatherJenaDataset('data')\n",
        "test_ds  = WeatherJenaDataset('data', train=False)\n",
        "\n",
        "BATCH_SIZE = 32\n",
        "\n",
        "train_dl = DataLoader(dataset=train_ds, batch_size=BATCH_SIZE, \n",
        "                num_workers=0, drop_last=True, shuffle=True)\n",
        "test_dl  = DataLoader(dataset=test_ds, batch_size=BATCH_SIZE, \n",
        "                num_workers=0, shuffle=False)"
      ]
    },
    {
      "cell_type": "code",
      "execution_count": 17,
      "metadata": {
        "id": "n616vdx6r5_Y"
      },
      "outputs": [
        {
          "ename": "ValueError",
          "evalue": "operands could not be broadcast together with shapes (12,11) (19,) ",
          "output_type": "error",
          "traceback": [
            "\u001b[0;31m---------------------------------------------------------------------------\u001b[0m",
            "\u001b[0;31mValueError\u001b[0m                                Traceback (most recent call last)",
            "\u001b[1;32m/home/marco.todaro/Documenti/DEV/MachineLearningAlgorithms/11_RNN/lstm_weather.ipynb Cella 5\u001b[0m in \u001b[0;36m<cell line: 3>\u001b[0;34m()\u001b[0m\n\u001b[1;32m      <a href='vscode-notebook-cell:/home/marco.todaro/Documenti/DEV/MachineLearningAlgorithms/11_RNN/lstm_weather.ipynb#W4sZmlsZQ%3D%3D?line=0'>1</a>\u001b[0m \u001b[39mimport\u001b[39;00m \u001b[39mmatplotlib\u001b[39;00m\u001b[39m.\u001b[39;00m\u001b[39mpyplot\u001b[39;00m \u001b[39mas\u001b[39;00m \u001b[39mplt\u001b[39;00m\n\u001b[0;32m----> <a href='vscode-notebook-cell:/home/marco.todaro/Documenti/DEV/MachineLearningAlgorithms/11_RNN/lstm_weather.ipynb#W4sZmlsZQ%3D%3D?line=2'>3</a>\u001b[0m (x, y) \u001b[39m=\u001b[39m \u001b[39miter\u001b[39;49m(train_dl)\u001b[39m.\u001b[39;49mnext()\n\u001b[1;32m      <a href='vscode-notebook-cell:/home/marco.todaro/Documenti/DEV/MachineLearningAlgorithms/11_RNN/lstm_weather.ipynb#W4sZmlsZQ%3D%3D?line=3'>4</a>\u001b[0m plt\u001b[39m.\u001b[39mfigure(figsize\u001b[39m=\u001b[39m(\u001b[39m20\u001b[39m,\u001b[39m3\u001b[39m))\n\u001b[1;32m      <a href='vscode-notebook-cell:/home/marco.todaro/Documenti/DEV/MachineLearningAlgorithms/11_RNN/lstm_weather.ipynb#W4sZmlsZQ%3D%3D?line=4'>5</a>\u001b[0m \u001b[39mfor\u001b[39;00m i \u001b[39min\u001b[39;00m \u001b[39mrange\u001b[39m(\u001b[39mlen\u001b[39m(x[::\u001b[39m12\u001b[39m])):\n",
            "File \u001b[0;32m~/Applicazioni/anaconda3/lib/python3.9/site-packages/torch/utils/data/dataloader.py:681\u001b[0m, in \u001b[0;36m_BaseDataLoaderIter.__next__\u001b[0;34m(self)\u001b[0m\n\u001b[1;32m    678\u001b[0m \u001b[39mif\u001b[39;00m \u001b[39mself\u001b[39m\u001b[39m.\u001b[39m_sampler_iter \u001b[39mis\u001b[39;00m \u001b[39mNone\u001b[39;00m:\n\u001b[1;32m    679\u001b[0m     \u001b[39m# TODO(https://github.com/pytorch/pytorch/issues/76750)\u001b[39;00m\n\u001b[1;32m    680\u001b[0m     \u001b[39mself\u001b[39m\u001b[39m.\u001b[39m_reset()  \u001b[39m# type: ignore[call-arg]\u001b[39;00m\n\u001b[0;32m--> 681\u001b[0m data \u001b[39m=\u001b[39m \u001b[39mself\u001b[39;49m\u001b[39m.\u001b[39;49m_next_data()\n\u001b[1;32m    682\u001b[0m \u001b[39mself\u001b[39m\u001b[39m.\u001b[39m_num_yielded \u001b[39m+\u001b[39m\u001b[39m=\u001b[39m \u001b[39m1\u001b[39m\n\u001b[1;32m    683\u001b[0m \u001b[39mif\u001b[39;00m \u001b[39mself\u001b[39m\u001b[39m.\u001b[39m_dataset_kind \u001b[39m==\u001b[39m _DatasetKind\u001b[39m.\u001b[39mIterable \u001b[39mand\u001b[39;00m \\\n\u001b[1;32m    684\u001b[0m         \u001b[39mself\u001b[39m\u001b[39m.\u001b[39m_IterableDataset_len_called \u001b[39mis\u001b[39;00m \u001b[39mnot\u001b[39;00m \u001b[39mNone\u001b[39;00m \u001b[39mand\u001b[39;00m \\\n\u001b[1;32m    685\u001b[0m         \u001b[39mself\u001b[39m\u001b[39m.\u001b[39m_num_yielded \u001b[39m>\u001b[39m \u001b[39mself\u001b[39m\u001b[39m.\u001b[39m_IterableDataset_len_called:\n",
            "File \u001b[0;32m~/Applicazioni/anaconda3/lib/python3.9/site-packages/torch/utils/data/dataloader.py:721\u001b[0m, in \u001b[0;36m_SingleProcessDataLoaderIter._next_data\u001b[0;34m(self)\u001b[0m\n\u001b[1;32m    719\u001b[0m \u001b[39mdef\u001b[39;00m \u001b[39m_next_data\u001b[39m(\u001b[39mself\u001b[39m):\n\u001b[1;32m    720\u001b[0m     index \u001b[39m=\u001b[39m \u001b[39mself\u001b[39m\u001b[39m.\u001b[39m_next_index()  \u001b[39m# may raise StopIteration\u001b[39;00m\n\u001b[0;32m--> 721\u001b[0m     data \u001b[39m=\u001b[39m \u001b[39mself\u001b[39;49m\u001b[39m.\u001b[39;49m_dataset_fetcher\u001b[39m.\u001b[39;49mfetch(index)  \u001b[39m# may raise StopIteration\u001b[39;00m\n\u001b[1;32m    722\u001b[0m     \u001b[39mif\u001b[39;00m \u001b[39mself\u001b[39m\u001b[39m.\u001b[39m_pin_memory:\n\u001b[1;32m    723\u001b[0m         data \u001b[39m=\u001b[39m _utils\u001b[39m.\u001b[39mpin_memory\u001b[39m.\u001b[39mpin_memory(data, \u001b[39mself\u001b[39m\u001b[39m.\u001b[39m_pin_memory_device)\n",
            "File \u001b[0;32m~/Applicazioni/anaconda3/lib/python3.9/site-packages/torch/utils/data/_utils/fetch.py:49\u001b[0m, in \u001b[0;36m_MapDatasetFetcher.fetch\u001b[0;34m(self, possibly_batched_index)\u001b[0m\n\u001b[1;32m     47\u001b[0m \u001b[39mdef\u001b[39;00m \u001b[39mfetch\u001b[39m(\u001b[39mself\u001b[39m, possibly_batched_index):\n\u001b[1;32m     48\u001b[0m     \u001b[39mif\u001b[39;00m \u001b[39mself\u001b[39m\u001b[39m.\u001b[39mauto_collation:\n\u001b[0;32m---> 49\u001b[0m         data \u001b[39m=\u001b[39m [\u001b[39mself\u001b[39m\u001b[39m.\u001b[39mdataset[idx] \u001b[39mfor\u001b[39;00m idx \u001b[39min\u001b[39;00m possibly_batched_index]\n\u001b[1;32m     50\u001b[0m     \u001b[39melse\u001b[39;00m:\n\u001b[1;32m     51\u001b[0m         data \u001b[39m=\u001b[39m \u001b[39mself\u001b[39m\u001b[39m.\u001b[39mdataset[possibly_batched_index]\n",
            "File \u001b[0;32m~/Applicazioni/anaconda3/lib/python3.9/site-packages/torch/utils/data/_utils/fetch.py:49\u001b[0m, in \u001b[0;36m<listcomp>\u001b[0;34m(.0)\u001b[0m\n\u001b[1;32m     47\u001b[0m \u001b[39mdef\u001b[39;00m \u001b[39mfetch\u001b[39m(\u001b[39mself\u001b[39m, possibly_batched_index):\n\u001b[1;32m     48\u001b[0m     \u001b[39mif\u001b[39;00m \u001b[39mself\u001b[39m\u001b[39m.\u001b[39mauto_collation:\n\u001b[0;32m---> 49\u001b[0m         data \u001b[39m=\u001b[39m [\u001b[39mself\u001b[39;49m\u001b[39m.\u001b[39;49mdataset[idx] \u001b[39mfor\u001b[39;00m idx \u001b[39min\u001b[39;00m possibly_batched_index]\n\u001b[1;32m     50\u001b[0m     \u001b[39melse\u001b[39;00m:\n\u001b[1;32m     51\u001b[0m         data \u001b[39m=\u001b[39m \u001b[39mself\u001b[39m\u001b[39m.\u001b[39mdataset[possibly_batched_index]\n",
            "\u001b[1;32m/home/marco.todaro/Documenti/DEV/MachineLearningAlgorithms/11_RNN/lstm_weather.ipynb Cella 5\u001b[0m in \u001b[0;36mWeatherJenaDataset.__getitem__\u001b[0;34m(self, idx)\u001b[0m\n\u001b[1;32m     <a href='vscode-notebook-cell:/home/marco.todaro/Documenti/DEV/MachineLearningAlgorithms/11_RNN/lstm_weather.ipynb#W4sZmlsZQ%3D%3D?line=94'>95</a>\u001b[0m x \u001b[39m=\u001b[39m \u001b[39mself\u001b[39m\u001b[39m.\u001b[39mds\u001b[39m.\u001b[39miloc[idx:idx\u001b[39m+\u001b[39m\u001b[39mself\u001b[39m\u001b[39m.\u001b[39minput_width]\u001b[39m.\u001b[39mvalues\n\u001b[1;32m     <a href='vscode-notebook-cell:/home/marco.todaro/Documenti/DEV/MachineLearningAlgorithms/11_RNN/lstm_weather.ipynb#W4sZmlsZQ%3D%3D?line=95'>96</a>\u001b[0m y \u001b[39m=\u001b[39m \u001b[39mself\u001b[39m\u001b[39m.\u001b[39mds\u001b[39m.\u001b[39miloc[idx\u001b[39m+\u001b[39m\u001b[39mself\u001b[39m\u001b[39m.\u001b[39minput_width\u001b[39m+\u001b[39m\u001b[39mself\u001b[39m\u001b[39m.\u001b[39mlabel_shift][\u001b[39m'\u001b[39m\u001b[39mT (degC)\u001b[39m\u001b[39m'\u001b[39m]\u001b[39m.\u001b[39mastype(\u001b[39m'\u001b[39m\u001b[39mfloat32\u001b[39m\u001b[39m'\u001b[39m)\n\u001b[0;32m---> <a href='vscode-notebook-cell:/home/marco.todaro/Documenti/DEV/MachineLearningAlgorithms/11_RNN/lstm_weather.ipynb#W4sZmlsZQ%3D%3D?line=96'>97</a>\u001b[0m x \u001b[39m=\u001b[39m torch\u001b[39m.\u001b[39mtensor((x \u001b[39m-\u001b[39;49m np\u001b[39m.\u001b[39;49marray(\u001b[39mself\u001b[39;49m\u001b[39m.\u001b[39;49mMEAN)) \u001b[39m/\u001b[39m np\u001b[39m.\u001b[39marray(\u001b[39mself\u001b[39m\u001b[39m.\u001b[39mSTD))\u001b[39m.\u001b[39mfloat()\n\u001b[1;32m     <a href='vscode-notebook-cell:/home/marco.todaro/Documenti/DEV/MachineLearningAlgorithms/11_RNN/lstm_weather.ipynb#W4sZmlsZQ%3D%3D?line=97'>98</a>\u001b[0m \u001b[39mreturn\u001b[39;00m x, y\n",
            "\u001b[0;31mValueError\u001b[0m: operands could not be broadcast together with shapes (12,11) (19,) "
          ]
        }
      ],
      "source": [
        "import matplotlib.pyplot as plt\n",
        "\n",
        "(x, y) = iter(train_dl).next()\n",
        "plt.figure(figsize=(20,3))\n",
        "for i in range(len(x[::12])):\n",
        "    plt.plot(np.arange(len(x[i])) + i * 14, x[i][:, 1]*train_ds.STD[1] + train_ds.MEAN[1], c='blue', marker='o')\n",
        "    plt.scatter([13 + i * 14], [y[i]], color='red', marker='x')\n",
        "\n",
        "plt.ylabel('Temp')\n",
        "plt.xlabel('Timestep')"
      ]
    },
    {
      "cell_type": "markdown",
      "metadata": {
        "id": "DAcdUnX_zkPF"
      },
      "source": [
        "# Model Definition"
      ]
    },
    {
      "cell_type": "code",
      "execution_count": 14,
      "metadata": {
        "id": "8ORhiW8qeL3L"
      },
      "outputs": [],
      "source": [
        "import torch\n",
        "from torch import nn\n",
        "\n",
        "class WeatherLSTM(nn.Module):\n",
        "\n",
        "    def __init__(self, num_features_in: int, hidden_dim: int, \n",
        "                    num_features_out: int):\n",
        "\n",
        "        super().__init__()\n",
        "        # insert all the modules you need here\n",
        "        self.hidden_dim = hidden_dim\n",
        "        self.lstm = nn.LSTM(num_features_in,hidden_dim, batch_first=True)\n",
        "        self.net = nn.Sequential(\n",
        "            nn.Linear(hidden_dim,hidden_dim),\n",
        "            nn.ReLU(),\n",
        "            nn.Linear(hidden_dim, num_features_out)\n",
        "        )\n",
        "    def forward(self, X: torch.Tensor):\n",
        "        # define your forward pass here!\n",
        "        _,(h,_) = self.lstm(X)\n",
        "        h = h[0]\n",
        "        output = self.net(h)[:,0]\n",
        "        return output"
      ]
    },
    {
      "cell_type": "markdown",
      "metadata": {
        "id": "iPgAf39Zzo8Z"
      },
      "source": [
        "# Training Loop"
      ]
    },
    {
      "cell_type": "code",
      "execution_count": 15,
      "metadata": {
        "id": "XxJY61OrsqOY"
      },
      "outputs": [],
      "source": [
        "def eval_mae(net: nn.Module, data_loader: torch.utils.data.DataLoader, \n",
        "             device: torch.device):\n",
        "    sum = 0\n",
        "    tot = 0\n",
        "    with torch.no_grad():\n",
        "        for x, y in tqdm(data_loader):\n",
        "            x, y = x.to(device), y.to(device)\n",
        "            y_pred = model(x)\n",
        "            sum += sum(abs(y_pred - y))\n",
        "            tot += y_pred.size(0)\n",
        "    \n",
        "    return sum/tot "
      ]
    },
    {
      "cell_type": "code",
      "execution_count": 16,
      "metadata": {
        "id": "W-saNxwGv8Ho"
      },
      "outputs": [
        {
          "data": {
            "application/vnd.jupyter.widget-view+json": {
              "model_id": "2faf11e193134d06a2094cd0cb36c10f",
              "version_major": 2,
              "version_minor": 0
            },
            "text/plain": [
              "  0%|          | 0/3 [00:00<?, ?it/s]"
            ]
          },
          "metadata": {},
          "output_type": "display_data"
        },
        {
          "data": {
            "application/vnd.jupyter.widget-view+json": {
              "model_id": "d588aa21982946bfb2eac13d256e267d",
              "version_major": 2,
              "version_minor": 0
            },
            "text/plain": [
              "  0%|          | 0/1532 [00:00<?, ?it/s]"
            ]
          },
          "metadata": {},
          "output_type": "display_data"
        },
        {
          "ename": "ValueError",
          "evalue": "operands could not be broadcast together with shapes (12,11) (19,) ",
          "output_type": "error",
          "traceback": [
            "\u001b[0;31m---------------------------------------------------------------------------\u001b[0m",
            "\u001b[0;31mValueError\u001b[0m                                Traceback (most recent call last)",
            "\u001b[1;32m/home/marco.todaro/Documenti/DEV/MachineLearningAlgorithms/11_RNN/lstm_weather.ipynb Cella 10\u001b[0m in \u001b[0;36m<cell line: 19>\u001b[0;34m()\u001b[0m\n\u001b[1;32m     <a href='vscode-notebook-cell:/home/marco.todaro/Documenti/DEV/MachineLearningAlgorithms/11_RNN/lstm_weather.ipynb#X12sZmlsZQ%3D%3D?line=18'>19</a>\u001b[0m \u001b[39mfor\u001b[39;00m e \u001b[39min\u001b[39;00m tqdm(\u001b[39mrange\u001b[39m(num_epochs)):\n\u001b[1;32m     <a href='vscode-notebook-cell:/home/marco.todaro/Documenti/DEV/MachineLearningAlgorithms/11_RNN/lstm_weather.ipynb#X12sZmlsZQ%3D%3D?line=20'>21</a>\u001b[0m     model\u001b[39m.\u001b[39meval()\n\u001b[0;32m---> <a href='vscode-notebook-cell:/home/marco.todaro/Documenti/DEV/MachineLearningAlgorithms/11_RNN/lstm_weather.ipynb#X12sZmlsZQ%3D%3D?line=22'>23</a>\u001b[0m     train_err \u001b[39m=\u001b[39m eval_mae(model,train_dl,device) \u001b[39m# evaluate the error on the train set\u001b[39;00m\n\u001b[1;32m     <a href='vscode-notebook-cell:/home/marco.todaro/Documenti/DEV/MachineLearningAlgorithms/11_RNN/lstm_weather.ipynb#X12sZmlsZQ%3D%3D?line=23'>24</a>\u001b[0m     test_err \u001b[39m=\u001b[39m  eval_mae(model,test_dl,device)\u001b[39m# evaluate the error on the test set\u001b[39;00m\n\u001b[1;32m     <a href='vscode-notebook-cell:/home/marco.todaro/Documenti/DEV/MachineLearningAlgorithms/11_RNN/lstm_weather.ipynb#X12sZmlsZQ%3D%3D?line=25'>26</a>\u001b[0m     \u001b[39mprint\u001b[39m(\u001b[39mf\u001b[39m\u001b[39m'\u001b[39m\u001b[39mEpoch \u001b[39m\u001b[39m{\u001b[39;00me\u001b[39m:\u001b[39;00m\u001b[39m03d\u001b[39m\u001b[39m}\u001b[39;00m\u001b[39m - Train MAE \u001b[39m\u001b[39m{\u001b[39;00mtrain_err\u001b[39m:\u001b[39;00m\u001b[39m.3f\u001b[39m\u001b[39m}\u001b[39;00m\u001b[39m\\t\u001b[39;00m\u001b[39mTest MAE \u001b[39m\u001b[39m{\u001b[39;00mtest_err\u001b[39m:\u001b[39;00m\u001b[39m.3f\u001b[39m\u001b[39m}\u001b[39;00m\u001b[39m'\u001b[39m)\n",
            "\u001b[1;32m/home/marco.todaro/Documenti/DEV/MachineLearningAlgorithms/11_RNN/lstm_weather.ipynb Cella 10\u001b[0m in \u001b[0;36meval_mae\u001b[0;34m(net, data_loader, device)\u001b[0m\n\u001b[1;32m      <a href='vscode-notebook-cell:/home/marco.todaro/Documenti/DEV/MachineLearningAlgorithms/11_RNN/lstm_weather.ipynb#X12sZmlsZQ%3D%3D?line=3'>4</a>\u001b[0m tot \u001b[39m=\u001b[39m \u001b[39m0\u001b[39m\n\u001b[1;32m      <a href='vscode-notebook-cell:/home/marco.todaro/Documenti/DEV/MachineLearningAlgorithms/11_RNN/lstm_weather.ipynb#X12sZmlsZQ%3D%3D?line=4'>5</a>\u001b[0m \u001b[39mwith\u001b[39;00m torch\u001b[39m.\u001b[39mno_grad():\n\u001b[0;32m----> <a href='vscode-notebook-cell:/home/marco.todaro/Documenti/DEV/MachineLearningAlgorithms/11_RNN/lstm_weather.ipynb#X12sZmlsZQ%3D%3D?line=5'>6</a>\u001b[0m     \u001b[39mfor\u001b[39;00m x, y \u001b[39min\u001b[39;00m tqdm(data_loader):\n\u001b[1;32m      <a href='vscode-notebook-cell:/home/marco.todaro/Documenti/DEV/MachineLearningAlgorithms/11_RNN/lstm_weather.ipynb#X12sZmlsZQ%3D%3D?line=6'>7</a>\u001b[0m         x, y \u001b[39m=\u001b[39m x\u001b[39m.\u001b[39mto(device), y\u001b[39m.\u001b[39mto(device)\n\u001b[1;32m      <a href='vscode-notebook-cell:/home/marco.todaro/Documenti/DEV/MachineLearningAlgorithms/11_RNN/lstm_weather.ipynb#X12sZmlsZQ%3D%3D?line=7'>8</a>\u001b[0m         y_pred \u001b[39m=\u001b[39m model(x)\n",
            "File \u001b[0;32m~/Applicazioni/anaconda3/lib/python3.9/site-packages/tqdm/notebook.py:258\u001b[0m, in \u001b[0;36mtqdm_notebook.__iter__\u001b[0;34m(self)\u001b[0m\n\u001b[1;32m    256\u001b[0m \u001b[39mtry\u001b[39;00m:\n\u001b[1;32m    257\u001b[0m     it \u001b[39m=\u001b[39m \u001b[39msuper\u001b[39m(tqdm_notebook, \u001b[39mself\u001b[39m)\u001b[39m.\u001b[39m\u001b[39m__iter__\u001b[39m()\n\u001b[0;32m--> 258\u001b[0m     \u001b[39mfor\u001b[39;00m obj \u001b[39min\u001b[39;00m it:\n\u001b[1;32m    259\u001b[0m         \u001b[39m# return super(tqdm...) will not catch exception\u001b[39;00m\n\u001b[1;32m    260\u001b[0m         \u001b[39myield\u001b[39;00m obj\n\u001b[1;32m    261\u001b[0m \u001b[39m# NB: except ... [ as ...] breaks IPython async KeyboardInterrupt\u001b[39;00m\n",
            "File \u001b[0;32m~/Applicazioni/anaconda3/lib/python3.9/site-packages/tqdm/std.py:1195\u001b[0m, in \u001b[0;36mtqdm.__iter__\u001b[0;34m(self)\u001b[0m\n\u001b[1;32m   1192\u001b[0m time \u001b[39m=\u001b[39m \u001b[39mself\u001b[39m\u001b[39m.\u001b[39m_time\n\u001b[1;32m   1194\u001b[0m \u001b[39mtry\u001b[39;00m:\n\u001b[0;32m-> 1195\u001b[0m     \u001b[39mfor\u001b[39;00m obj \u001b[39min\u001b[39;00m iterable:\n\u001b[1;32m   1196\u001b[0m         \u001b[39myield\u001b[39;00m obj\n\u001b[1;32m   1197\u001b[0m         \u001b[39m# Update and possibly print the progressbar.\u001b[39;00m\n\u001b[1;32m   1198\u001b[0m         \u001b[39m# Note: does not call self.update(1) for speed optimisation.\u001b[39;00m\n",
            "File \u001b[0;32m~/Applicazioni/anaconda3/lib/python3.9/site-packages/torch/utils/data/dataloader.py:681\u001b[0m, in \u001b[0;36m_BaseDataLoaderIter.__next__\u001b[0;34m(self)\u001b[0m\n\u001b[1;32m    678\u001b[0m \u001b[39mif\u001b[39;00m \u001b[39mself\u001b[39m\u001b[39m.\u001b[39m_sampler_iter \u001b[39mis\u001b[39;00m \u001b[39mNone\u001b[39;00m:\n\u001b[1;32m    679\u001b[0m     \u001b[39m# TODO(https://github.com/pytorch/pytorch/issues/76750)\u001b[39;00m\n\u001b[1;32m    680\u001b[0m     \u001b[39mself\u001b[39m\u001b[39m.\u001b[39m_reset()  \u001b[39m# type: ignore[call-arg]\u001b[39;00m\n\u001b[0;32m--> 681\u001b[0m data \u001b[39m=\u001b[39m \u001b[39mself\u001b[39;49m\u001b[39m.\u001b[39;49m_next_data()\n\u001b[1;32m    682\u001b[0m \u001b[39mself\u001b[39m\u001b[39m.\u001b[39m_num_yielded \u001b[39m+\u001b[39m\u001b[39m=\u001b[39m \u001b[39m1\u001b[39m\n\u001b[1;32m    683\u001b[0m \u001b[39mif\u001b[39;00m \u001b[39mself\u001b[39m\u001b[39m.\u001b[39m_dataset_kind \u001b[39m==\u001b[39m _DatasetKind\u001b[39m.\u001b[39mIterable \u001b[39mand\u001b[39;00m \\\n\u001b[1;32m    684\u001b[0m         \u001b[39mself\u001b[39m\u001b[39m.\u001b[39m_IterableDataset_len_called \u001b[39mis\u001b[39;00m \u001b[39mnot\u001b[39;00m \u001b[39mNone\u001b[39;00m \u001b[39mand\u001b[39;00m \\\n\u001b[1;32m    685\u001b[0m         \u001b[39mself\u001b[39m\u001b[39m.\u001b[39m_num_yielded \u001b[39m>\u001b[39m \u001b[39mself\u001b[39m\u001b[39m.\u001b[39m_IterableDataset_len_called:\n",
            "File \u001b[0;32m~/Applicazioni/anaconda3/lib/python3.9/site-packages/torch/utils/data/dataloader.py:721\u001b[0m, in \u001b[0;36m_SingleProcessDataLoaderIter._next_data\u001b[0;34m(self)\u001b[0m\n\u001b[1;32m    719\u001b[0m \u001b[39mdef\u001b[39;00m \u001b[39m_next_data\u001b[39m(\u001b[39mself\u001b[39m):\n\u001b[1;32m    720\u001b[0m     index \u001b[39m=\u001b[39m \u001b[39mself\u001b[39m\u001b[39m.\u001b[39m_next_index()  \u001b[39m# may raise StopIteration\u001b[39;00m\n\u001b[0;32m--> 721\u001b[0m     data \u001b[39m=\u001b[39m \u001b[39mself\u001b[39;49m\u001b[39m.\u001b[39;49m_dataset_fetcher\u001b[39m.\u001b[39;49mfetch(index)  \u001b[39m# may raise StopIteration\u001b[39;00m\n\u001b[1;32m    722\u001b[0m     \u001b[39mif\u001b[39;00m \u001b[39mself\u001b[39m\u001b[39m.\u001b[39m_pin_memory:\n\u001b[1;32m    723\u001b[0m         data \u001b[39m=\u001b[39m _utils\u001b[39m.\u001b[39mpin_memory\u001b[39m.\u001b[39mpin_memory(data, \u001b[39mself\u001b[39m\u001b[39m.\u001b[39m_pin_memory_device)\n",
            "File \u001b[0;32m~/Applicazioni/anaconda3/lib/python3.9/site-packages/torch/utils/data/_utils/fetch.py:49\u001b[0m, in \u001b[0;36m_MapDatasetFetcher.fetch\u001b[0;34m(self, possibly_batched_index)\u001b[0m\n\u001b[1;32m     47\u001b[0m \u001b[39mdef\u001b[39;00m \u001b[39mfetch\u001b[39m(\u001b[39mself\u001b[39m, possibly_batched_index):\n\u001b[1;32m     48\u001b[0m     \u001b[39mif\u001b[39;00m \u001b[39mself\u001b[39m\u001b[39m.\u001b[39mauto_collation:\n\u001b[0;32m---> 49\u001b[0m         data \u001b[39m=\u001b[39m [\u001b[39mself\u001b[39m\u001b[39m.\u001b[39mdataset[idx] \u001b[39mfor\u001b[39;00m idx \u001b[39min\u001b[39;00m possibly_batched_index]\n\u001b[1;32m     50\u001b[0m     \u001b[39melse\u001b[39;00m:\n\u001b[1;32m     51\u001b[0m         data \u001b[39m=\u001b[39m \u001b[39mself\u001b[39m\u001b[39m.\u001b[39mdataset[possibly_batched_index]\n",
            "File \u001b[0;32m~/Applicazioni/anaconda3/lib/python3.9/site-packages/torch/utils/data/_utils/fetch.py:49\u001b[0m, in \u001b[0;36m<listcomp>\u001b[0;34m(.0)\u001b[0m\n\u001b[1;32m     47\u001b[0m \u001b[39mdef\u001b[39;00m \u001b[39mfetch\u001b[39m(\u001b[39mself\u001b[39m, possibly_batched_index):\n\u001b[1;32m     48\u001b[0m     \u001b[39mif\u001b[39;00m \u001b[39mself\u001b[39m\u001b[39m.\u001b[39mauto_collation:\n\u001b[0;32m---> 49\u001b[0m         data \u001b[39m=\u001b[39m [\u001b[39mself\u001b[39;49m\u001b[39m.\u001b[39;49mdataset[idx] \u001b[39mfor\u001b[39;00m idx \u001b[39min\u001b[39;00m possibly_batched_index]\n\u001b[1;32m     50\u001b[0m     \u001b[39melse\u001b[39;00m:\n\u001b[1;32m     51\u001b[0m         data \u001b[39m=\u001b[39m \u001b[39mself\u001b[39m\u001b[39m.\u001b[39mdataset[possibly_batched_index]\n",
            "\u001b[1;32m/home/marco.todaro/Documenti/DEV/MachineLearningAlgorithms/11_RNN/lstm_weather.ipynb Cella 10\u001b[0m in \u001b[0;36mWeatherJenaDataset.__getitem__\u001b[0;34m(self, idx)\u001b[0m\n\u001b[1;32m     <a href='vscode-notebook-cell:/home/marco.todaro/Documenti/DEV/MachineLearningAlgorithms/11_RNN/lstm_weather.ipynb#X12sZmlsZQ%3D%3D?line=94'>95</a>\u001b[0m x \u001b[39m=\u001b[39m \u001b[39mself\u001b[39m\u001b[39m.\u001b[39mds\u001b[39m.\u001b[39miloc[idx:idx\u001b[39m+\u001b[39m\u001b[39mself\u001b[39m\u001b[39m.\u001b[39minput_width]\u001b[39m.\u001b[39mvalues\n\u001b[1;32m     <a href='vscode-notebook-cell:/home/marco.todaro/Documenti/DEV/MachineLearningAlgorithms/11_RNN/lstm_weather.ipynb#X12sZmlsZQ%3D%3D?line=95'>96</a>\u001b[0m y \u001b[39m=\u001b[39m \u001b[39mself\u001b[39m\u001b[39m.\u001b[39mds\u001b[39m.\u001b[39miloc[idx\u001b[39m+\u001b[39m\u001b[39mself\u001b[39m\u001b[39m.\u001b[39minput_width\u001b[39m+\u001b[39m\u001b[39mself\u001b[39m\u001b[39m.\u001b[39mlabel_shift][\u001b[39m'\u001b[39m\u001b[39mT (degC)\u001b[39m\u001b[39m'\u001b[39m]\u001b[39m.\u001b[39mastype(\u001b[39m'\u001b[39m\u001b[39mfloat32\u001b[39m\u001b[39m'\u001b[39m)\n\u001b[0;32m---> <a href='vscode-notebook-cell:/home/marco.todaro/Documenti/DEV/MachineLearningAlgorithms/11_RNN/lstm_weather.ipynb#X12sZmlsZQ%3D%3D?line=96'>97</a>\u001b[0m x \u001b[39m=\u001b[39m torch\u001b[39m.\u001b[39mtensor((x \u001b[39m-\u001b[39;49m np\u001b[39m.\u001b[39;49marray(\u001b[39mself\u001b[39;49m\u001b[39m.\u001b[39;49mMEAN)) \u001b[39m/\u001b[39m np\u001b[39m.\u001b[39marray(\u001b[39mself\u001b[39m\u001b[39m.\u001b[39mSTD))\u001b[39m.\u001b[39mfloat()\n\u001b[1;32m     <a href='vscode-notebook-cell:/home/marco.todaro/Documenti/DEV/MachineLearningAlgorithms/11_RNN/lstm_weather.ipynb#X12sZmlsZQ%3D%3D?line=97'>98</a>\u001b[0m \u001b[39mreturn\u001b[39;00m x, y\n",
            "\u001b[0;31mValueError\u001b[0m: operands could not be broadcast together with shapes (12,11) (19,) "
          ]
        }
      ],
      "source": [
        "from torch.optim import SGD\n",
        "from datetime import datetime\n",
        "\n",
        "num_hidden      = 20\n",
        "num_epochs      = 3\n",
        "learning_rate   = 0.005\n",
        "num_features_in = 11\n",
        "num_features_out= 1\n",
        "\n",
        "device = torch.device(\"cuda:0\" if torch.cuda.is_available() else \"cpu\")\n",
        "\n",
        "model = WeatherLSTM(num_features_in=num_features_in,num_features_out=num_features_out,hidden_dim=num_hidden).to(device)\n",
        "\n",
        "loss_fun = nn.MSELoss()\n",
        "opt = SGD(model.parameters(), lr=learning_rate)\n",
        "\n",
        "now = datetime.now()\n",
        "  \n",
        "for e in tqdm(range(num_epochs)):\n",
        "\n",
        "    model.eval()\n",
        "    \n",
        "    train_err = eval_mae(model,train_dl,device) # evaluate the error on the train set\n",
        "    test_err =  eval_mae(model,test_dl,device)# evaluate the error on the test set\n",
        "\n",
        "    print(f'Epoch {e:03d} - Train MAE {train_err:.3f}\\tTest MAE {test_err:.3f}')\n",
        "\n",
        "    model.train()\n",
        "    for i, (x, y) in enumerate(train_dl):\n",
        "        x, y = x.to(device), y.to(device)\n",
        "\n",
        "        # prepare for gradient computation\n",
        "        opt.zero_grad()\n",
        "        # perform forward step\n",
        "        y_pred= model(x)\n",
        "        loss = loss_fun(y_pred,y)\n",
        "        if i % 200 == 0:\n",
        "            print(f'loss {loss.cpu().item():.3f}')        \n",
        "        # perform backward step\n",
        "        loss.backward()        \n",
        "        # adjust weights\n",
        "        opt.step()\n"
      ]
    },
    {
      "cell_type": "markdown",
      "metadata": {
        "id": "3i_vtIVkzvnp"
      },
      "source": [
        "# Inspect Results"
      ]
    },
    {
      "cell_type": "code",
      "execution_count": null,
      "metadata": {
        "id": "CHvflayWwdAp"
      },
      "outputs": [],
      "source": [
        "data = next(iter(test_dl))\n",
        "y = data[1]\n",
        "y_pred = model(data[0].to(device)).cpu().detach()\n",
        "y, y_pred = y[:64], y_pred[:64]\n",
        "for i, (yi, yi_pred) in enumerate(zip(y, y_pred)):\n",
        "    plt.plot([i, i], [yi, yi_pred], color='red', alpha=.5, ls=\":\")\n",
        "plt.plot(np.arange(len(y)), y, marker='.', lw=0, color='k', label='ground truth')\n",
        "plt.plot(np.arange(len(y)), y_pred, marker='x', lw=0, color='red', label='guess')\n",
        "plt.xticks([])\n",
        "plt.ylabel('Temperature')\n",
        "plt.legend(loc='lower right')"
      ]
    }
  ],
  "metadata": {
    "accelerator": "GPU",
    "colab": {
      "collapsed_sections": [],
      "name": "lstm_weather_unsolved.ipynb",
      "provenance": []
    },
    "kernelspec": {
      "display_name": "base",
      "language": "python",
      "name": "python3"
    },
    "language_info": {
      "codemirror_mode": {
        "name": "ipython",
        "version": 3
      },
      "file_extension": ".py",
      "mimetype": "text/x-python",
      "name": "python",
      "nbconvert_exporter": "python",
      "pygments_lexer": "ipython3",
      "version": "3.9.12"
    },
    "vscode": {
      "interpreter": {
        "hash": "b14c27cae524dbfd45c9571a7f9fd7a7eb1f23084315ebefbabcf7e59126cc81"
      }
    }
  },
  "nbformat": 4,
  "nbformat_minor": 0
}
